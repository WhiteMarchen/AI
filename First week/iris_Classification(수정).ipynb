{
 "cells": [
  {
   "cell_type": "markdown",
   "id": "3084383a-54e4-4a07-8033-62a32092e250",
   "metadata": {},
   "source": [
    "# 1주차 레포트"
   ]
  },
  {
   "cell_type": "markdown",
   "id": "dfa540d1-2bcc-4921-8b85-9a116168b479",
   "metadata": {},
   "source": [
    "iris.csv 파일을 읽고 4가지 모델로 학습 및 태스트 진행\n",
    "\n",
    "1. 주 코드"
   ]
  },
  {
   "cell_type": "code",
   "execution_count": 4,
   "id": "3a6b8d23-5104-43f7-a168-be5c4e91d32b",
   "metadata": {},
   "outputs": [
    {
     "name": "stdout",
     "output_type": "stream",
     "text": [
      "   SepalLength  SepalWidth  PetalLength  PetalWidth         Name\n",
      "0          5.1         3.5          1.4         0.2  Iris-setosa\n",
      "1          4.9         3.0          1.4         0.2  Iris-setosa\n",
      "2          4.7         3.2          1.3         0.2  Iris-setosa\n",
      "3          4.6         3.1          1.5         0.2  Iris-setosa\n",
      "4          5.0         3.6          1.4         0.2  Iris-setosa\n",
      "Index(['SepalLength', 'SepalWidth', 'PetalLength', 'PetalWidth', 'Name'], dtype='object')\n"
     ]
    }
   ],
   "source": [
    "import pandas as pd\n",
    "from sklearn.model_selection import train_test_split\n",
    "from sklearn.preprocessing import LabelEncoder\n",
    "\n",
    "file_path = \"/Users/marchen/Desktop/programming/AI/First week/iris.csv\"\n",
    "df = pd.read_csv(file_path)\n",
    "\n",
    "# 타켓 데이터 분리\n",
    "X = df.iloc[ :, :-1]                            # 특정 데이터\n",
    "Y = LabelEncoder().fit_transform(df[\"Name\"])    # 문자열을 숫자로 치환\n",
    "\n",
    "print(df.head())\n",
    "print(df.columns)"
   ]
  },
  {
   "cell_type": "markdown",
   "id": "e5909fb8-26d6-41ef-8173-7800387ffb7a",
   "metadata": {},
   "source": [
    "2. 학습에 사용할 변수"
   ]
  },
  {
   "cell_type": "code",
   "execution_count": 6,
   "id": "356a4b00-e1cb-4f3a-8caf-4ba49ee672a1",
   "metadata": {},
   "outputs": [],
   "source": [
    "# 데이터 학습, 테스트, 분할\n",
    "X_train, X_test, Y_train, Y_test = train_test_split(X, Y, test_size = 0.2, random_state = 42)"
   ]
  },
  {
   "cell_type": "markdown",
   "id": "65d8d5d4-2b8f-4b0d-b058-ca58c366402d",
   "metadata": {},
   "source": [
    "3. (1) DT 모델"
   ]
  },
  {
   "cell_type": "code",
   "execution_count": 7,
   "id": "971e04ae-7e71-4981-9aab-51b9a2fd2be6",
   "metadata": {},
   "outputs": [
    {
     "name": "stdout",
     "output_type": "stream",
     "text": [
      "DT  예측값 : [1 0 2 1 1]\n",
      "DT  정확도 :  1.0000\n",
      "\n"
     ]
    }
   ],
   "source": [
    "# DT\n",
    "from sklearn.tree import DecisionTreeClassifier\n",
    "from sklearn.metrics import accuracy_score\n",
    "\n",
    "# DT 모델 학습\n",
    "dt_model = DecisionTreeClassifier()\n",
    "dt_model.fit(X_train, Y_train)\n",
    "\n",
    "# 예측 및 평가\n",
    "Y_pred = dt_model.predict(X_test)\n",
    "DT_accuracy = accuracy_score(Y_test, Y_pred)\n",
    "print(f\"DT  예측값 : {Y_pred[:5]}\")\n",
    "print(f\"DT  정확도 : {DT_accuracy : .4f}\\n\")"
   ]
  },
  {
   "cell_type": "markdown",
   "id": "88f378b8-9664-4b1d-9046-e7e731b0e150",
   "metadata": {},
   "source": [
    "3. (2) RF 모델"
   ]
  },
  {
   "cell_type": "code",
   "execution_count": 8,
   "id": "49ff36b9-5f59-4ae0-bd9b-b10680081d53",
   "metadata": {},
   "outputs": [
    {
     "name": "stdout",
     "output_type": "stream",
     "text": [
      "RF  예측값 : [1 0 2 1 1]\n",
      "RF  정확도 :  1.0000\n",
      "\n"
     ]
    }
   ],
   "source": [
    "# RF\n",
    "from sklearn.ensemble import RandomForestClassifier\n",
    "\n",
    "# RF 모델 학습\n",
    "rf_model = RandomForestClassifier()\n",
    "rf_model.fit(X_train, Y_train)\n",
    "\n",
    "# 예측 및 평가\n",
    "Y_pred = rf_model.predict(X_test)\n",
    "RF_accuracy = accuracy_score(Y_test, Y_pred)\n",
    "print(f\"RF  예측값 : {Y_pred[:5]}\")\n",
    "print(f\"RF  정확도 : {RF_accuracy : .4f}\\n\")"
   ]
  },
  {
   "cell_type": "markdown",
   "id": "02dd5b4c-a1ec-4f0a-bfe7-502ebb0659d7",
   "metadata": {},
   "source": [
    "3. (3) SVM 모델"
   ]
  },
  {
   "cell_type": "code",
   "execution_count": 9,
   "id": "1885076b-d896-4786-a84b-e70488cbfb41",
   "metadata": {},
   "outputs": [
    {
     "name": "stdout",
     "output_type": "stream",
     "text": [
      "SVM 예측값 : [1 0 2 1 1]\n",
      "SVM 정확도 :  1.0000\n",
      "\n"
     ]
    }
   ],
   "source": [
    "# SVM\n",
    "from sklearn.svm import SVC\n",
    "\n",
    "# SVM 모델 학습\n",
    "svm_model = SVC()\n",
    "svm_model.fit(X_train, Y_train)\n",
    "\n",
    "# 예측 및 평가\n",
    "Y_pred = svm_model.predict(X_test)\n",
    "SVM_accuracy = accuracy_score(Y_test, Y_pred)\n",
    "print(f\"SVM 예측값 : {Y_pred[:5]}\")\n",
    "print(f\"SVM 정확도 : {SVM_accuracy : .4f}\\n\")"
   ]
  },
  {
   "cell_type": "markdown",
   "id": "81fcd452-ee1d-4c0e-863f-74e4c37b1f07",
   "metadata": {},
   "source": [
    "3. (4) LF 모델"
   ]
  },
  {
   "cell_type": "code",
   "execution_count": 10,
   "id": "123c0e82-68ac-4e94-b402-2d74cdb3bf46",
   "metadata": {},
   "outputs": [
    {
     "name": "stdout",
     "output_type": "stream",
     "text": [
      "LF  예측값 : [1 0 2 1 1]\n",
      "LF  정확도 :  1.0000\n",
      "\n"
     ]
    }
   ],
   "source": [
    "# LF\n",
    "from sklearn.linear_model import LogisticRegression\n",
    "\n",
    "# LF 모델 학습\n",
    "lr_model = LogisticRegression(max_iter = 200)\n",
    "lr_model.fit(X_train, Y_train)\n",
    "\n",
    "# 예측 및 평가\n",
    "Y_pred = lr_model.predict(X_test)\n",
    "LF_accuracy = accuracy_score(Y_test, Y_pred)\n",
    "print(f\"LF  예측값 : {Y_pred[:5]}\")\n",
    "print(f\"LF  정확도 : {LF_accuracy : .4f}\\n\")"
   ]
  },
  {
   "cell_type": "markdown",
   "id": "cbacb874-467c-4df5-81a6-05edd224ef71",
   "metadata": {},
   "source": [
    "### DT, RF, SVM, LF 모델 모두 예측값에 정확한 100%를 보여준다.\n",
    "예측값이 동일한 이유는 데이터 종류가 많지 않은 점이 큰 이유일 것 같다."
   ]
  },
  {
   "cell_type": "code",
   "execution_count": 12,
   "id": "b8c93d52-32c2-450c-b17c-c8dce837a231",
   "metadata": {},
   "outputs": [
    {
     "name": "stdout",
     "output_type": "stream",
     "text": [
      "총 데이터 개수: 150\n",
      "데이터 크기: (150, 5)\n"
     ]
    }
   ],
   "source": [
    "# 데이터 개수 출력\n",
    "print(f\"총 데이터 개수: {len(df)}\")\n",
    "\n",
    "# (행 개수, 열 개수)\n",
    "print(f\"데이터 크기: {df.shape}\")"
   ]
  },
  {
   "cell_type": "markdown",
   "id": "851586d3-e767-44b0-be2d-9f6495cccbdf",
   "metadata": {},
   "source": [
    "\n",
    "아마 평가엔 안 들어가겠지만 그래도 뭘 잘못했는지 알고 넘어가야 한다 생각해 수정함 (Jupyter Notebook으로 안 하고 그냥 Python으로 코드 작성 후 업로드 함..;;)"
   ]
  },
  {
   "cell_type": "code",
   "execution_count": null,
   "id": "677b7e5b-012e-4cc2-8b66-6c9282119ff3",
   "metadata": {},
   "outputs": [],
   "source": []
  }
 ],
 "metadata": {
  "kernelspec": {
   "display_name": "Python 3 (ipykernel)",
   "language": "python",
   "name": "python3"
  },
  "language_info": {
   "codemirror_mode": {
    "name": "ipython",
    "version": 3
   },
   "file_extension": ".py",
   "mimetype": "text/x-python",
   "name": "python",
   "nbconvert_exporter": "python",
   "pygments_lexer": "ipython3",
   "version": "3.12.7"
  }
 },
 "nbformat": 4,
 "nbformat_minor": 5
}
