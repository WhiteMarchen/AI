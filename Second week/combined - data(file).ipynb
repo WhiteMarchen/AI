{
 "cells": [
  {
   "cell_type": "code",
   "execution_count": 20,
   "id": "2d8f8f30-7449-4de2-aaf7-0a3ec266f441",
   "metadata": {},
   "outputs": [
    {
     "name": "stdout",
     "output_type": "stream",
     "text": [
      "<bound method NDFrame.head of      Num.  subject_ID Sex(M/F)  Age(year)  Height(cm)  Weight(kg)  \\\n",
      "0       1           2   Female         45         152          63   \n",
      "1       1           2   Female         45         152          63   \n",
      "2       1           2   Female         45         152          63   \n",
      "3       2           3   Female         50         157          50   \n",
      "4       2           3   Female         50         157          50   \n",
      "..    ...         ...      ...        ...         ...         ...   \n",
      "652   218         418     Male         25         173          63   \n",
      "653   218         418     Male         25         173          63   \n",
      "654   219         419     Male         24         175          58   \n",
      "655   219         419     Male         24         175          58   \n",
      "656   219         419     Male         24         175          58   \n",
      "\n",
      "     Systolic Blood Pressure(mmHg)  Diastolic Blood Pressure(mmHg)  \\\n",
      "0                              161                              89   \n",
      "1                              161                              89   \n",
      "2                              161                              89   \n",
      "3                              160                              93   \n",
      "4                              160                              93   \n",
      "..                             ...                             ...   \n",
      "652                            106                              69   \n",
      "653                            106                              69   \n",
      "654                            108                              68   \n",
      "655                            108                              68   \n",
      "656                            108                              68   \n",
      "\n",
      "     Heart Rate(b/m)  BMI(kg/m^2)  ...  2091  2092  2093  2094  2095  2096  \\\n",
      "0                 97    27.268006  ...  1766  1766  1766  1833  1833  1827   \n",
      "1                 97    27.268006  ...  1985  1985  2026  2026  2026  1977   \n",
      "2                 97    27.268006  ...  1942  1900  1900  1938  1938  1938   \n",
      "3                 76    20.284799  ...  2073  2072  2072  2072  2051  2051   \n",
      "4                 76    20.284799  ...  2021  2010  2010  2010  2001  2001   \n",
      "..               ...          ...  ...   ...   ...   ...   ...   ...   ...   \n",
      "652               67    21.049818  ...  2702  2671  2679  2675  2695  2703   \n",
      "653               67    21.049818  ...  2391  2362  2378  2363  2323  2355   \n",
      "654               65    18.938776  ...  2399  2463  2415  2406  2407  2447   \n",
      "655               65    18.938776  ...  3075  3091  3067  3051  3121  3135   \n",
      "656               65    18.938776  ...  2623  2627  2674  2670  2662  2647   \n",
      "\n",
      "     2097  2098  2099  2100  \n",
      "0    1827  1827  1754  1754  \n",
      "1    1977  1997  1997  1997  \n",
      "2    1924  1924  1929  1929  \n",
      "3    2036  2036  2036  2045  \n",
      "4    2003  2003  2003  1989  \n",
      "..    ...   ...   ...   ...  \n",
      "652  2667  2662  2687  2635  \n",
      "653  2355  2395  2362  2367  \n",
      "654  2435  2422  2451  2379  \n",
      "655  3091  3103  3146  3151  \n",
      "656  2631  2611  2639  2623  \n",
      "\n",
      "[657 rows x 2114 columns]>\n",
      "Index(['Num.', 'subject_ID', 'Sex(M/F)', 'Age(year)', 'Height(cm)',\n",
      "       'Weight(kg)', 'Systolic Blood Pressure(mmHg)',\n",
      "       'Diastolic Blood Pressure(mmHg)', 'Heart Rate(b/m)', 'BMI(kg/m^2)',\n",
      "       ...\n",
      "       '2091', '2092', '2093', '2094', '2095', '2096', '2097', '2098', '2099',\n",
      "       '2100'],\n",
      "      dtype='object', length=2114)\n"
     ]
    }
   ],
   "source": [
    "import pandas as pd\n",
    "from sklearn.model_selection import train_test_split\n",
    "from sklearn.preprocessing import LabelEncoder\n",
    "\n",
    "file_path = \"/Users/marchen/Desktop/programming/AI/Second week/file/combined_dataset-1.xlsx\"\n",
    "df = pd.read_excel(file_path)\n",
    "\n",
    "print(df.head)\n",
    "print(df.columns)"
   ]
  },
  {
   "cell_type": "markdown",
   "id": "70cb30fc-8c8f-4b9d-ad03-39b6271170aa",
   "metadata": {},
   "source": [
    "### 인코딩할 타겟을 설정 후 test와 train으로 분류"
   ]
  },
  {
   "cell_type": "code",
   "execution_count": 21,
   "id": "d3dd4d1b-e32c-4161-ac56-a43e391531b5",
   "metadata": {},
   "outputs": [],
   "source": [
    "X = df.iloc[ :, :-1]\n",
    "Y = LabelEncoder().fit_transform(df[\"Sex(M/F)\"])\n",
    "\n",
    "label_encoders = {}\n",
    "for col in X.select_dtypes(include = [\"object\"]).columns: # 문자열 데이터만 변환\n",
    "    label = LabelEncoder()\n",
    "    X[col] = label.fit_transform(X[col])"
   ]
  },
  {
   "cell_type": "code",
   "execution_count": 22,
   "id": "fe2c9295-99d4-48ef-883d-2f9fc0f5e9f7",
   "metadata": {},
   "outputs": [],
   "source": [
    "from sklearn.model_selection import train_test_split\n",
    "X_train, X_test, Y_train, Y_test = train_test_split(X, Y, test_size = 0.3, random_state = 46)"
   ]
  },
  {
   "cell_type": "code",
   "execution_count": 23,
   "id": "5dd005dd-de58-4f07-9e03-4b19ccb6e84c",
   "metadata": {},
   "outputs": [
    {
     "name": "stdout",
     "output_type": "stream",
     "text": [
      "DT  예측값 : [0 0 1 1 0]\n",
      "DT  정확도 :  1.0000\n",
      "\n"
     ]
    }
   ],
   "source": [
    "# DT\n",
    "from sklearn.tree import DecisionTreeClassifier\n",
    "from sklearn.metrics import accuracy_score\n",
    "\n",
    "# DT 모델 학습\n",
    "dt_model = DecisionTreeClassifier()\n",
    "dt_model.fit(X_train, Y_train)\n",
    "\n",
    "# 예측 및 평가\n",
    "Y_pred = dt_model.predict(X_test)\n",
    "DT_accuracy = accuracy_score(Y_test, Y_pred)\n",
    "print(f\"DT  예측값 : {Y_pred[:5]}\")\n",
    "print(f\"DT  정확도 : {DT_accuracy : .4f}\\n\")"
   ]
  },
  {
   "cell_type": "code",
   "execution_count": 24,
   "id": "328ffc4f-134b-4245-9074-143b17a7f9b3",
   "metadata": {},
   "outputs": [
    {
     "name": "stdout",
     "output_type": "stream",
     "text": [
      "SVM 예측값 : [0 0 0 0 0]\n",
      "SVM 정확도 : 0.4899\n"
     ]
    }
   ],
   "source": [
    "# SVM\n",
    "from sklearn.svm import SVC\n",
    "\n",
    "# SVM 모델 학습\n",
    "svm_model = SVC()\n",
    "svm_model.fit(X_train, Y_train)\n",
    "\n",
    "# 예측 및 평가\n",
    "Y_pred = svm_model.predict(X_test)\n",
    "svm_accuracy = accuracy_score(Y_test, Y_pred)\n",
    "\n",
    "print(f\"SVM 예측값 : {Y_pred[:5]}\")\n",
    "print(f\"SVM 정확도 : {svm_accuracy:.4f}\")"
   ]
  },
  {
   "cell_type": "code",
   "execution_count": 25,
   "id": "134eb993-4faf-4790-a750-18dafffba89b",
   "metadata": {},
   "outputs": [
    {
     "name": "stdout",
     "output_type": "stream",
     "text": [
      "RF  예측값 : [0 0 1 1 0]\n",
      "RF  정확도 :  0.7879\n",
      "\n"
     ]
    }
   ],
   "source": [
    "# RF\n",
    "from sklearn.ensemble import RandomForestClassifier\n",
    "\n",
    "# RF 모델 학습\n",
    "rf_model = RandomForestClassifier()\n",
    "rf_model.fit(X_train, Y_train)\n",
    "\n",
    "# 예측 및 평가\n",
    "Y_pred = rf_model.predict(X_test)\n",
    "RF_accuracy = accuracy_score(Y_test, Y_pred)\n",
    "print(f\"RF  예측값 : {Y_pred[:5]}\")\n",
    "print(f\"RF  정확도 : {RF_accuracy : .4f}\\n\")"
   ]
  },
  {
   "cell_type": "code",
   "execution_count": 27,
   "id": "80c81144-3bd9-4baf-8c55-b095b36620a7",
   "metadata": {},
   "outputs": [
    {
     "name": "stdout",
     "output_type": "stream",
     "text": [
      "LF  예측값 : [0 0 1 1 0]\n",
      "LF  정확도 :  0.9949\n",
      "\n"
     ]
    }
   ],
   "source": [
    "# LF\n",
    "from sklearn.linear_model import LogisticRegression\n",
    "from sklearn.preprocessing import StandardScaler\n",
    "\n",
    "# 데이터 스케일링\n",
    "scaler = StandardScaler()\n",
    "X_train_scaled = scaler.fit_transform(X_train)\n",
    "X_test_scaled = scaler.transform(X_test)\n",
    "\n",
    "# LF 모델 학습\n",
    "lr_model = LogisticRegression(max_iter = 200)\n",
    "lr_model.fit(X_train_scaled, Y_train)\n",
    "\n",
    "# 예측 및 평가\n",
    "Y_pred = lr_model.predict(X_test_scaled)\n",
    "LF_accuracy = accuracy_score(Y_test, Y_pred)\n",
    "print(f\"LF  예측값 : {Y_pred[:5]}\")\n",
    "print(f\"LF  정확도 : {LF_accuracy : .4f}\\n\")"
   ]
  },
  {
   "cell_type": "code",
   "execution_count": 28,
   "id": "49db6e87-81a2-4747-bd05-2589b2e6d8bd",
   "metadata": {},
   "outputs": [
    {
     "name": "stdout",
     "output_type": "stream",
     "text": [
      "KNN 예측값 : [0 0 0 1 0]\n",
      "KNN 정확도 : 0.4747\n"
     ]
    }
   ],
   "source": [
    "# KNN\n",
    "from sklearn.neighbors import KNeighborsClassifier\n",
    "\n",
    "# KNN 모델 학습\n",
    "knn_model = KNeighborsClassifier(n_neighbors=5)  # k값을 5로 설정\n",
    "knn_model.fit(X_train, Y_train)\n",
    "\n",
    "# 예측 및 평가\n",
    "Y_pred = knn_model.predict(X_test)\n",
    "knn_accuracy = accuracy_score(Y_test, Y_pred)\n",
    "\n",
    "print(f\"KNN 예측값 : {Y_pred[:5]}\")\n",
    "print(f\"KNN 정확도 : {knn_accuracy:.4f}\")"
   ]
  },
  {
   "cell_type": "code",
   "execution_count": null,
   "id": "65c883af-952c-461f-ad22-c6a868a4f47c",
   "metadata": {},
   "outputs": [],
   "source": []
  }
 ],
 "metadata": {
  "kernelspec": {
   "display_name": "Python 3 (ipykernel)",
   "language": "python",
   "name": "python3"
  },
  "language_info": {
   "codemirror_mode": {
    "name": "ipython",
    "version": 3
   },
   "file_extension": ".py",
   "mimetype": "text/x-python",
   "name": "python",
   "nbconvert_exporter": "python",
   "pygments_lexer": "ipython3",
   "version": "3.12.7"
  }
 },
 "nbformat": 4,
 "nbformat_minor": 5
}
