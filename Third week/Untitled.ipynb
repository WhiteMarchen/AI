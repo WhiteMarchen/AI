{
 "cells": [
  {
   "cell_type": "code",
   "execution_count": 1,
   "id": "105c8a62-f21a-47e3-8b09-397df0213e9b",
   "metadata": {},
   "outputs": [
    {
     "name": "stdout",
     "output_type": "stream",
     "text": [
      "압축 파일 목록: ['car_evaluation.csv']\n",
      "   vhigh vhigh.1  2 2.1  small   low  unacc\n",
      "0  vhigh   vhigh  2   2  small   med  unacc\n",
      "1  vhigh   vhigh  2   2  small  high  unacc\n",
      "2  vhigh   vhigh  2   2    med   low  unacc\n",
      "3  vhigh   vhigh  2   2    med   med  unacc\n",
      "4  vhigh   vhigh  2   2    med  high  unacc\n",
      "Index(['vhigh', 'vhigh.1', '2', '2.1', 'small', 'low', 'unacc'], dtype='object')\n"
     ]
    }
   ],
   "source": [
    "import pandas as pd\n",
    "import zipfile\n",
    "import os\n",
    "\n",
    "# ZIP 파일 경로\n",
    "zip_path = \"/Users/marchen/Desktop/programming/AI/Untitled Folder/file/archive.zip\"\n",
    "\n",
    "# ZIP 파일 열기 및 내부 파일 확인\n",
    "with zipfile.ZipFile(zip_path, \"r\") as zip_ref:\n",
    "    file_list = zip_ref.namelist()  # ZIP 내부 파일 목록 확인\n",
    "    print(\"압축 파일 목록:\", file_list)\n",
    "\n",
    "    # ZIP 내부 첫 번째 CSV 파일을 읽기\n",
    "    csv_filename = file_list[0]  # 첫 번째 CSV 파일 선\n",
    "    with zip_ref.open(csv_filename) as file:\n",
    "        df = pd.read_csv(file)\n",
    "\n",
    "# 데이터 확인\n",
    "print(df.head())  \n",
    "print(df.columns)"
   ]
  },
  {
   "cell_type": "code",
   "execution_count": 6,
   "id": "566b0248-7260-4317-abe5-ceba1a21b306",
   "metadata": {},
   "outputs": [],
   "source": [
    "from sklearn.model_selection import train_test_split\n",
    "from sklearn.proprecessing import LabelEncoder\n",
    "\n",
    "target_column = df.columns[-1]\n",
    "X = df.drop(columns = [target_column])\n",
    "Y = df[target_column]\n",
    "\n",
    "label_encoders = {} # 라벨 인코더 저장 딕셔너리\n",
    "\n",
    "for col in target_columns : \n",
    "    label_encoders[col] = LabelEncoder() # LabelEncoder를 label_encoders[col]에 KeyError를 방지\n",
    "    df[col] = label_encoders[col].fit_transform(df[col])\n",
    "\n",
    "X_train, X_test, Y_train, Y_test = train_test_split(X, Y, test_size=0.3, random_state=42)"
   ]
  },
  {
   "cell_type": "code",
   "execution_count": 9,
   "id": "25d194f3-cdd2-468b-abf8-07f109b58c99",
   "metadata": {},
   "outputs": [
    {
     "name": "stdout",
     "output_type": "stream",
     "text": [
      "변환된 데이터가 'converted_data.csv' 파일로 저장되었습니다!\n"
     ]
    }
   ],
   "source": [
    "import pandas as pd\n",
    "from sklearn.preprocessing import LabelEncoder\n",
    "\n",
    "# 데이터 불러오기 (예시)\n",
    "df = pd.read_csv(\"/Users/marchen/Desktop/programming/AI/Untitled Folder/file/archive.zip\")  # 여기에 실제 데이터 경로 입력\n",
    "\n",
    "# 문자열 데이터를 수치형으로 변환\n",
    "label_encoders = {}  # 변환된 데이터 저장 딕셔너리\n",
    "\n",
    "for col in df.select_dtypes(include=[\"object\"]).columns:  # 문자열 열만 선택\n",
    "    label_encoder = LabelEncoder()\n",
    "    df[col] = label_encoder.fit_transform(df[col])  # 컬럼을 수치형으로 변환\n",
    "    label_encoders[col] = label_encoder  # 변환기 저장\n",
    "\n",
    "# 변환된 데이터를 CSV 파일로 저장\n",
    "df.to_csv(\"converted_data.csv\", index=False)  # index=False: 인덱스 제외하고 저장\n",
    "\n",
    "print(\"변환된 데이터가 'converted_data.csv' 파일로 저장되었습니다!\")"
   ]
  },
  {
   "cell_type": "code",
   "execution_count": null,
   "id": "c7d43535-cf3c-4984-abc8-b9a82015591c",
   "metadata": {},
   "outputs": [],
   "source": []
  }
 ],
 "metadata": {
  "kernelspec": {
   "display_name": "Python 3 (ipykernel)",
   "language": "python",
   "name": "python3"
  },
  "language_info": {
   "codemirror_mode": {
    "name": "ipython",
    "version": 3
   },
   "file_extension": ".py",
   "mimetype": "text/x-python",
   "name": "python",
   "nbconvert_exporter": "python",
   "pygments_lexer": "ipython3",
   "version": "3.12.7"
  }
 },
 "nbformat": 4,
 "nbformat_minor": 5
}
