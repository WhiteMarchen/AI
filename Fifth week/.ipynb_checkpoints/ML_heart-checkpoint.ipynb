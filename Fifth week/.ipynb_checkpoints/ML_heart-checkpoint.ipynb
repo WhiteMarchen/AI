{
 "cells": [
  {
   "cell_type": "code",
   "execution_count": 9,
   "id": "3f91db41-43d8-4978-a62f-e2175ab8531c",
   "metadata": {},
   "outputs": [
    {
     "name": "stdout",
     "output_type": "stream",
     "text": [
      "<bound method NDFrame.head of      age  sex  cp  trestbps  chol  fbs  restecg  thalach  exang  oldpeak  \\\n",
      "0     63    1   3       145   233    1        0      150      0      2.3   \n",
      "1     37    1   2       130   250    0        1      187      0      3.5   \n",
      "2     41    0   1       130   204    0        0      172      0      1.4   \n",
      "3     56    1   1       120   236    0        1      178      0      0.8   \n",
      "4     57    0   0       120   354    0        1      163      1      0.6   \n",
      "..   ...  ...  ..       ...   ...  ...      ...      ...    ...      ...   \n",
      "298   57    0   0       140   241    0        1      123      1      0.2   \n",
      "299   45    1   3       110   264    0        1      132      0      1.2   \n",
      "300   68    1   0       144   193    1        1      141      0      3.4   \n",
      "301   57    1   0       130   131    0        1      115      1      1.2   \n",
      "302   57    0   1       130   236    0        0      174      0      0.0   \n",
      "\n",
      "     slope  ca  thal  target  \n",
      "0        0   0     1       1  \n",
      "1        0   0     2       1  \n",
      "2        2   0     2       1  \n",
      "3        2   0     2       1  \n",
      "4        2   0     2       1  \n",
      "..     ...  ..   ...     ...  \n",
      "298      1   0     3       0  \n",
      "299      1   0     3       0  \n",
      "300      1   2     3       0  \n",
      "301      1   1     3       0  \n",
      "302      1   1     2       0  \n",
      "\n",
      "[303 rows x 14 columns]>\n",
      "Index(['age', 'sex', 'cp', 'trestbps', 'chol', 'fbs', 'restecg', 'thalach',\n",
      "       'exang', 'oldpeak', 'slope', 'ca', 'thal', 'target'],\n",
      "      dtype='object')\n"
     ]
    }
   ],
   "source": [
    "import pandas as pd\n",
    "from sklearn.model_selection import train_test_split\n",
    "from sklearn.preprocessing import LabelEncoder\n",
    "\n",
    "file_path = \"/Users/marchen/Desktop/programming/AI/Fifth week/file/heart.csv\"\n",
    "df = pd.read_csv(file_path)\n",
    "\n",
    "X = df.iloc[ :, :-1]\n",
    "Y = LabelEncoder().fit_transform(df['target'])\n",
    "\n",
    "print(df.head)\n",
    "print(df.columns)"
   ]
  },
  {
   "cell_type": "code",
   "execution_count": 10,
   "id": "5650141f-4557-4706-838c-3243164c2409",
   "metadata": {},
   "outputs": [
    {
     "data": {
      "text/plain": [
       "target\n",
       "1    165\n",
       "0    138\n",
       "Name: count, dtype: int64"
      ]
     },
     "execution_count": 10,
     "metadata": {},
     "output_type": "execute_result"
    }
   ],
   "source": [
    "df[\"target\"].value_counts()"
   ]
  },
  {
   "cell_type": "code",
   "execution_count": 11,
   "id": "69eee98e-de57-40ab-b414-61a5a30fe90c",
   "metadata": {},
   "outputs": [
    {
     "data": {
      "text/plain": [
       "age         0\n",
       "sex         0\n",
       "cp          0\n",
       "trestbps    0\n",
       "chol        0\n",
       "fbs         0\n",
       "restecg     0\n",
       "thalach     0\n",
       "exang       0\n",
       "oldpeak     0\n",
       "slope       0\n",
       "ca          0\n",
       "thal        0\n",
       "target      0\n",
       "dtype: int64"
      ]
     },
     "execution_count": 11,
     "metadata": {},
     "output_type": "execute_result"
    }
   ],
   "source": [
    "# 결측치 제거\n",
    "df = df.dropna()\n",
    "df.isnull().sum()"
   ]
  },
  {
   "cell_type": "code",
   "execution_count": 12,
   "id": "7ce422aa-3336-4bca-b492-19ee91a872ae",
   "metadata": {},
   "outputs": [],
   "source": [
    "X_test, X_train, y_test, y_train = train_test_split(X, Y, test_size = 0.3, random_state = 40)"
   ]
  },
  {
   "cell_type": "code",
   "execution_count": 13,
   "id": "a82a5925-cdf2-4535-88a8-fc424497746e",
   "metadata": {},
   "outputs": [
    {
     "name": "stdout",
     "output_type": "stream",
     "text": [
      "(91, 13) (91,)\n",
      "(212, 13) (212,)\n"
     ]
    }
   ],
   "source": [
    "print(X_train.shape, y_train.shape)\n",
    "print(X_test.shape, y_test.shape)"
   ]
  },
  {
   "cell_type": "code",
   "execution_count": 14,
   "id": "3133970d-2d7f-4130-b611-7b37eca68d1e",
   "metadata": {},
   "outputs": [
    {
     "name": "stdout",
     "output_type": "stream",
     "text": [
      "DT  예측값 : [0 0 0 0 0]\n",
      "DT  정확도 :  0.7736\n",
      "\n"
     ]
    }
   ],
   "source": [
    "# DT\n",
    "from sklearn.tree import DecisionTreeClassifier\n",
    "from sklearn.metrics import accuracy_score\n",
    "\n",
    "# DT 모델 학습\n",
    "dt_model = DecisionTreeClassifier()\n",
    "dt_model.fit(X_train, y_train)\n",
    "\n",
    "# 예측 및 평가\n",
    "y_pred = dt_model.predict(X_test)\n",
    "DT_accuracy = accuracy_score(Y_test, y_pred)\n",
    "print(f\"DT  예측값 : {y_pred[:5]}\")\n",
    "print(f\"DT  정확도 : {DT_accuracy : .4f}\\n\")"
   ]
  },
  {
   "cell_type": "code",
   "execution_count": 15,
   "id": "21be3be7-b374-43df-a48c-ecb9f4cc3c88",
   "metadata": {},
   "outputs": [
    {
     "name": "stdout",
     "output_type": "stream",
     "text": [
      "RF  예측값 : [1 1 0 0 0]\n",
      "RF  정확도 :  0.8019\n",
      "\n"
     ]
    }
   ],
   "source": [
    "# RF\n",
    "from sklearn.ensemble import RandomForestClassifier\n",
    "\n",
    "# RF 모델 학습\n",
    "rf_model = RandomForestClassifier()\n",
    "rf_model.fit(X_train, y_train)\n",
    "\n",
    "# 예측 및 평가\n",
    "y_pred = rf_model.predict(X_test)\n",
    "RF_accuracy = accuracy_score(y_test, y_pred)\n",
    "print(f\"RF  예측값 : {y_pred[:5]}\")\n",
    "print(f\"RF  정확도 : {RF_accuracy : .4f}\\n\")"
   ]
  },
  {
   "cell_type": "code",
   "execution_count": 16,
   "id": "d96657ba-a079-472e-9186-835f134b22f5",
   "metadata": {},
   "outputs": [
    {
     "name": "stdout",
     "output_type": "stream",
     "text": [
      "SVM 예측값 : [1 1 0 0 1]\n",
      "SVM 정확도 :  0.6321\n",
      "\n"
     ]
    }
   ],
   "source": [
    "# SVM\n",
    "from sklearn.svm import SVC\n",
    "\n",
    "# SVM 모델 학습\n",
    "svm_model = SVC()\n",
    "svm_model.fit(X_train, y_train)\n",
    "\n",
    "# 예측 및 평가\n",
    "y_pred = svm_model.predict(X_test)\n",
    "SVM_accuracy = accuracy_score(y_test, y_pred)\n",
    "print(f\"SVM 예측값 : {y_pred[:5]}\")\n",
    "print(f\"SVM 정확도 : {SVM_accuracy : .4f}\\n\")"
   ]
  },
  {
   "cell_type": "code",
   "execution_count": 18,
   "id": "2d2677a9-f024-4aad-b13c-af1df0f02a21",
   "metadata": {},
   "outputs": [
    {
     "name": "stdout",
     "output_type": "stream",
     "text": [
      "LF  예측값 : [1 1 0 0 0]\n",
      "LF  정확도 :  0.8160\n",
      "\n"
     ]
    }
   ],
   "source": [
    "# LF\n",
    "from sklearn.linear_model import LogisticRegression\n",
    "\n",
    "# LF 모델 학습\n",
    "lr_model = LogisticRegression(max_iter = 1000)\n",
    "lr_model.fit(X_train, y_train)\n",
    "\n",
    "# 예측 및 평가\n",
    "y_pred = lr_model.predict(X_test)\n",
    "LF_accuracy = accuracy_score(y_test, y_pred)\n",
    "print(f\"LF  예측값 : {y_pred[:5]}\")\n",
    "print(f\"LF  정확도 : {LF_accuracy : .4f}\\n\")"
   ]
  },
  {
   "cell_type": "code",
   "execution_count": 19,
   "id": "70fbac62-30f5-4e80-ace1-e8a2081dd063",
   "metadata": {},
   "outputs": [
    {
     "name": "stdout",
     "output_type": "stream",
     "text": [
      "KNN 예측값 : [1 1 0 0 0]\n",
      "KNN 정확도 : 0.6274\n"
     ]
    }
   ],
   "source": [
    "# KNN\n",
    "from sklearn.neighbors import KNeighborsClassifier\n",
    "\n",
    "# KNN 모델 학습\n",
    "knn_model = KNeighborsClassifier(n_neighbors=5)  # k값을 5로 설정\n",
    "knn_model.fit(X_train, y_train)\n",
    "\n",
    "# 예측 및 평가\n",
    "y_pred = knn_model.predict(X_test)\n",
    "knn_accuracy = accuracy_score(y_test, y_pred)\n",
    "\n",
    "print(f\"KNN 예측값 : {y_pred[:5]}\")\n",
    "print(f\"KNN 정확도 : {knn_accuracy:.4f}\")"
   ]
  },
  {
   "cell_type": "code",
   "execution_count": null,
   "id": "35cb953b-2f3a-42e1-aadd-ee39aea625aa",
   "metadata": {},
   "outputs": [],
   "source": []
  }
 ],
 "metadata": {
  "kernelspec": {
   "display_name": "Python 3 (ipykernel)",
   "language": "python",
   "name": "python3"
  },
  "language_info": {
   "codemirror_mode": {
    "name": "ipython",
    "version": 3
   },
   "file_extension": ".py",
   "mimetype": "text/x-python",
   "name": "python",
   "nbconvert_exporter": "python",
   "pygments_lexer": "ipython3",
   "version": "3.12.7"
  }
 },
 "nbformat": 4,
 "nbformat_minor": 5
}
