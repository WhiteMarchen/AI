{
 "cells": [
  {
   "cell_type": "code",
   "execution_count": 11,
   "id": "f5c86691-27a0-424a-89e1-21c45633f1e8",
   "metadata": {},
   "outputs": [
    {
     "name": "stdout",
     "output_type": "stream",
     "text": [
      "<bound method NDFrame.head of      PassengerId  Survived  Pclass  \\\n",
      "0              1         0       3   \n",
      "1              2         1       1   \n",
      "2              3         1       3   \n",
      "3              4         1       1   \n",
      "4              5         0       3   \n",
      "..           ...       ...     ...   \n",
      "886          887         0       2   \n",
      "887          888         1       1   \n",
      "888          889         0       3   \n",
      "889          890         1       1   \n",
      "890          891         0       3   \n",
      "\n",
      "                                                  Name     Sex   Age  SibSp  \\\n",
      "0                              Braund, Mr. Owen Harris    male  22.0      1   \n",
      "1    Cumings, Mrs. John Bradley (Florence Briggs Th...  female  38.0      1   \n",
      "2                               Heikkinen, Miss. Laina  female  26.0      0   \n",
      "3         Futrelle, Mrs. Jacques Heath (Lily May Peel)  female  35.0      1   \n",
      "4                             Allen, Mr. William Henry    male  35.0      0   \n",
      "..                                                 ...     ...   ...    ...   \n",
      "886                              Montvila, Rev. Juozas    male  27.0      0   \n",
      "887                       Graham, Miss. Margaret Edith  female  19.0      0   \n",
      "888           Johnston, Miss. Catherine Helen \"Carrie\"  female   NaN      1   \n",
      "889                              Behr, Mr. Karl Howell    male  26.0      0   \n",
      "890                                Dooley, Mr. Patrick    male  32.0      0   \n",
      "\n",
      "     Parch            Ticket     Fare Cabin Embarked  \n",
      "0        0         A/5 21171   7.2500   NaN        S  \n",
      "1        0          PC 17599  71.2833   C85        C  \n",
      "2        0  STON/O2. 3101282   7.9250   NaN        S  \n",
      "3        0            113803  53.1000  C123        S  \n",
      "4        0            373450   8.0500   NaN        S  \n",
      "..     ...               ...      ...   ...      ...  \n",
      "886      0            211536  13.0000   NaN        S  \n",
      "887      0            112053  30.0000   B42        S  \n",
      "888      2        W./C. 6607  23.4500   NaN        S  \n",
      "889      0            111369  30.0000  C148        C  \n",
      "890      0            370376   7.7500   NaN        Q  \n",
      "\n",
      "[891 rows x 12 columns]>\n",
      "Index(['PassengerId', 'Survived', 'Pclass', 'Name', 'Sex', 'Age', 'SibSp',\n",
      "       'Parch', 'Ticket', 'Fare', 'Cabin', 'Embarked'],\n",
      "      dtype='object')\n"
     ]
    }
   ],
   "source": [
    "import pandas as pd\n",
    "from sklearn.model_selection import train_test_split\n",
    "from sklearn.preprocessing import LabelEncoder\n",
    "\n",
    "file_path = \"/Users/marchen/Desktop/programming/AI/Second week/file/titanic.csv\"\n",
    "df = pd.read_csv(file_path)\n",
    "\n",
    "X = df.iloc[ :, :-1]\n",
    "Y = LabelEncoder().fit_transform(df['Survived'])\n",
    "\n",
    "print(df.head)\n",
    "print(df.columns)"
   ]
  },
  {
   "cell_type": "code",
   "execution_count": 12,
   "id": "8b6ccd12-dcc4-4e9c-a974-6c797d709085",
   "metadata": {},
   "outputs": [
    {
     "data": {
      "text/plain": [
       "Survived\n",
       "0    549\n",
       "1    342\n",
       "Name: count, dtype: int64"
      ]
     },
     "execution_count": 12,
     "metadata": {},
     "output_type": "execute_result"
    }
   ],
   "source": [
    "df[\"Survived\"].value_counts()"
   ]
  },
  {
   "cell_type": "code",
   "execution_count": 14,
   "id": "b7023b4d-5454-4415-8123-81e72d73de9d",
   "metadata": {},
   "outputs": [
    {
     "data": {
      "text/plain": [
       "PassengerId      0\n",
       "Survived         0\n",
       "Pclass           0\n",
       "Name             0\n",
       "Sex              0\n",
       "Age            177\n",
       "SibSp            0\n",
       "Parch            0\n",
       "Ticket           0\n",
       "Fare             0\n",
       "Cabin          687\n",
       "Embarked         2\n",
       "dtype: int64"
      ]
     },
     "execution_count": 14,
     "metadata": {},
     "output_type": "execute_result"
    }
   ],
   "source": [
    "# 결측치 확인\n",
    "df.isnull().sum()"
   ]
  },
  {
   "cell_type": "code",
   "execution_count": 16,
   "id": "6abe468a-6af7-4723-a13d-e5cba0d92555",
   "metadata": {},
   "outputs": [
    {
     "data": {
      "text/plain": [
       "PassengerId    0\n",
       "Survived       0\n",
       "Pclass         0\n",
       "Name           0\n",
       "Sex            0\n",
       "Age            0\n",
       "SibSp          0\n",
       "Parch          0\n",
       "Ticket         0\n",
       "Fare           0\n",
       "Cabin          0\n",
       "Embarked       0\n",
       "dtype: int64"
      ]
     },
     "execution_count": 16,
     "metadata": {},
     "output_type": "execute_result"
    }
   ],
   "source": [
    "# 결측치 제거\n",
    "df = df.dropna()\n",
    "df.isnull().sum()"
   ]
  },
  {
   "cell_type": "code",
   "execution_count": 18,
   "id": "841d497e-fbd2-4d56-bc41-bbde26e4b26e",
   "metadata": {},
   "outputs": [
    {
     "name": "stdout",
     "output_type": "stream",
     "text": [
      "<bound method NDFrame.head of      PassengerId  Survived  Pclass  \\\n",
      "1              2         1       0   \n",
      "3              4         1       0   \n",
      "6              7         0       0   \n",
      "10            11         1       2   \n",
      "11            12         1       0   \n",
      "..           ...       ...     ...   \n",
      "871          872         1       0   \n",
      "872          873         0       0   \n",
      "879          880         1       0   \n",
      "887          888         1       0   \n",
      "889          890         1       0   \n",
      "\n",
      "                                                  Name  Sex  Age  SibSp  \\\n",
      "1    Cumings, Mrs. John Bradley (Florence Briggs Th...    0   32      1   \n",
      "3         Futrelle, Mrs. Jacques Heath (Lily May Peel)    0   28      1   \n",
      "6                              McCarthy, Mr. Timothy J    1   49      0   \n",
      "10                     Sandstrom, Miss. Marguerite Rut    0    4      1   \n",
      "11                            Bonnell, Miss. Elizabeth    0   53      0   \n",
      "..                                                 ...  ...  ...    ...   \n",
      "871   Beckwith, Mrs. Richard Leonard (Sallie Monypeny)    0   42      1   \n",
      "872                           Carlsson, Mr. Frans Olof    1   26      0   \n",
      "879      Potter, Mrs. Thomas Jr (Lily Alexenia Wilson)    0   51      0   \n",
      "887                       Graham, Miss. Margaret Edith    0   12      0   \n",
      "889                              Behr, Mr. Karl Howell    1   18      0   \n",
      "\n",
      "     Parch    Ticket  Fare        Cabin Embarked  \n",
      "1        0  PC 17599    57          C85        C  \n",
      "3        0    113803    44         C123        S  \n",
      "6        0     17463    41          E46        S  \n",
      "10       1   PP 9549    10           G6        S  \n",
      "11       0    113783    17         C103        S  \n",
      "..     ...       ...   ...          ...      ...  \n",
      "871      1     11751    43          D35        S  \n",
      "872      0       695     1  B51 B53 B55        S  \n",
      "879      1     11767    68          C50        C  \n",
      "887      0    112053    23          B42        S  \n",
      "889      0    111369    23         C148        C  \n",
      "\n",
      "[183 rows x 12 columns]>\n",
      "Index(['PassengerId', 'Survived', 'Pclass', 'Name', 'Sex', 'Age', 'SibSp',\n",
      "       'Parch', 'Ticket', 'Fare', 'Cabin', 'Embarked'],\n",
      "      dtype='object')\n"
     ]
    }
   ],
   "source": [
    "# 레이블 확인\n",
    "print(df.head)\n",
    "print(df.columns)"
   ]
  },
  {
   "cell_type": "markdown",
   "id": "0a5e66e6-f70e-43ee-989a-8817e45076a5",
   "metadata": {},
   "source": [
    "## Survived, Sex, Age, Fare만 데이터 프레임 생성"
   ]
  },
  {
   "cell_type": "code",
   "execution_count": 19,
   "id": "e1ce7aee-11e3-4ac1-9b09-018a4445cb37",
   "metadata": {},
   "outputs": [],
   "source": [
    "exclude_columns = ['PassengerId', 'Name', 'Parch', 'Ticket', 'Cabin', 'Embarked', 'SibSp'] # 제외할 columns\n",
    "target_columns = [col for col in df.columns if col not in exclude_columns] # 인코딩할 columns\n",
    "\n",
    "label_encoders = {} # 라벨 인코더 저장 딕셔너리\n",
    "\n",
    "for col in target_columns : \n",
    "    label_encoders[col] = LabelEncoder() # LabelEncoder를 label_encoders[col]에 KeyError를 방지\n",
    "    df[col] = label_encoders[col].fit_transform(df[col])"
   ]
  },
  {
   "cell_type": "markdown",
   "id": "01ce0a7d-e161-488c-8bc6-66d7c52346d3",
   "metadata": {},
   "source": [
    "### 만든 데이터 프레임을 저장 후 출력"
   ]
  },
  {
   "cell_type": "code",
   "execution_count": 20,
   "id": "c5b372b9-477b-40ca-911b-8a4aa8322767",
   "metadata": {},
   "outputs": [
    {
     "name": "stdout",
     "output_type": "stream",
     "text": [
      "     Survived  Pclass  Sex  Age  Fare\n",
      "1           1       0    0   32    57\n",
      "3           1       0    0   28    44\n",
      "6           0       0    1   49    41\n",
      "10          1       2    0    4    10\n",
      "11          1       0    0   53    17\n",
      "..        ...     ...  ...  ...   ...\n",
      "871         1       0    0   42    43\n",
      "872         0       0    1   26     1\n",
      "879         1       0    0   51    68\n",
      "887         1       0    0   12    23\n",
      "889         1       0    1   18    23\n",
      "\n",
      "[183 rows x 5 columns]\n"
     ]
    }
   ],
   "source": [
    "df = df.drop(columns = exclude_columns)\n",
    "\n",
    "print(df)"
   ]
  },
  {
   "cell_type": "code",
   "execution_count": 29,
   "id": "9e94b433-4c92-4041-82a4-5eae838a9ee3",
   "metadata": {},
   "outputs": [
    {
     "data": {
      "text/plain": [
       "Survived\n",
       "1    123\n",
       "0     60\n",
       "Name: count, dtype: int64"
      ]
     },
     "execution_count": 29,
     "metadata": {},
     "output_type": "execute_result"
    }
   ],
   "source": [
    "df['Survived'].value_counts()"
   ]
  },
  {
   "cell_type": "markdown",
   "id": "ac218646-42ac-48d7-a9e4-013fb7ea782d",
   "metadata": {},
   "source": [
    "### 결측치 제거하기 전 df['Survived'].value_counts()\n",
    "Survived \n",
    "0    549 \n",
    "1    342 \n",
    "Name: count, dtype: int64\n",
    "\n",
    "### 결측치 제거한 후 df['Survived'].value_counts()\n",
    "Survived\n",
    "1    123\n",
    "0    60\n",
    "Name: count, dtype: int64"
   ]
  },
  {
   "cell_type": "markdown",
   "id": "ec3a9fad-490b-42e7-8ba7-0e8a48c60df9",
   "metadata": {},
   "source": [
    "### 모델에 넣을 test, train 생성"
   ]
  },
  {
   "cell_type": "code",
   "execution_count": 22,
   "id": "77d09082-ff26-4c1f-8f98-e4d047d132b7",
   "metadata": {},
   "outputs": [],
   "source": [
    "X = df.iloc[ :, :-1] # X에 새로운 데이터 입력\n",
    "Y = df['Survived']\n",
    "\n",
    "X_test, X_train, Y_test, Y_train = train_test_split(X, Y, test_size = 0.3, random_state = 40)"
   ]
  },
  {
   "cell_type": "code",
   "execution_count": 23,
   "id": "12ab8ed2-f2ff-46a0-8212-9216d1b845af",
   "metadata": {},
   "outputs": [
    {
     "name": "stdout",
     "output_type": "stream",
     "text": [
      "DT  예측값 : [0 1 1 1 1]\n",
      "DT  정확도 :  1.0000\n",
      "\n"
     ]
    }
   ],
   "source": [
    "# DT\n",
    "from sklearn.tree import DecisionTreeClassifier\n",
    "from sklearn.metrics import accuracy_score\n",
    "\n",
    "# DT 모델 학습\n",
    "dt_model = DecisionTreeClassifier()\n",
    "dt_model.fit(X_train, Y_train)\n",
    "\n",
    "# 예측 및 평가\n",
    "Y_pred = dt_model.predict(X_test)\n",
    "DT_accuracy = accuracy_score(Y_test, Y_pred)\n",
    "print(f\"DT  예측값 : {Y_pred[:5]}\")\n",
    "print(f\"DT  정확도 : {DT_accuracy : .4f}\\n\")"
   ]
  },
  {
   "cell_type": "code",
   "execution_count": 24,
   "id": "572a6fa8-2190-4a63-b61a-bcd168adc867",
   "metadata": {},
   "outputs": [
    {
     "name": "stdout",
     "output_type": "stream",
     "text": [
      "RF  예측값 : [0 1 1 1 1]\n",
      "RF  정확도 :  1.0000\n",
      "\n"
     ]
    }
   ],
   "source": [
    "# RF\n",
    "from sklearn.ensemble import RandomForestClassifier\n",
    "\n",
    "# RF 모델 학습\n",
    "rf_model = RandomForestClassifier()\n",
    "rf_model.fit(X_train, Y_train)\n",
    "\n",
    "# 예측 및 평가\n",
    "Y_pred = rf_model.predict(X_test)\n",
    "RF_accuracy = accuracy_score(Y_test, Y_pred)\n",
    "print(f\"RF  예측값 : {Y_pred[:5]}\")\n",
    "print(f\"RF  정확도 : {RF_accuracy : .4f}\\n\")"
   ]
  },
  {
   "cell_type": "code",
   "execution_count": 25,
   "id": "17326e74-6fca-4cda-90f7-0ca7f0954f2d",
   "metadata": {},
   "outputs": [
    {
     "name": "stdout",
     "output_type": "stream",
     "text": [
      "SVM 예측값 : [1 1 1 1 1]\n",
      "SVM 정확도 :  0.6875\n",
      "\n"
     ]
    }
   ],
   "source": [
    "# SVM\n",
    "from sklearn.svm import SVC\n",
    "\n",
    "# SVM 모델 학습\n",
    "svm_model = SVC()\n",
    "svm_model.fit(X_train, Y_train)\n",
    "\n",
    "# 예측 및 평가\n",
    "Y_pred = svm_model.predict(X_test)\n",
    "SVM_accuracy = accuracy_score(Y_test, Y_pred)\n",
    "print(f\"SVM 예측값 : {Y_pred[:5]}\")\n",
    "print(f\"SVM 정확도 : {SVM_accuracy : .4f}\\n\")"
   ]
  },
  {
   "cell_type": "code",
   "execution_count": 26,
   "id": "da0d99a2-a7d2-47ce-b77b-c462178aa58a",
   "metadata": {},
   "outputs": [
    {
     "name": "stdout",
     "output_type": "stream",
     "text": [
      "LF  예측값 : [0 1 1 1 1]\n",
      "LF  정확도 :  1.0000\n",
      "\n"
     ]
    }
   ],
   "source": [
    "# LF\n",
    "from sklearn.linear_model import LogisticRegression\n",
    "\n",
    "# LF 모델 학습\n",
    "lr_model = LogisticRegression(max_iter = 200)\n",
    "lr_model.fit(X_train, Y_train)\n",
    "\n",
    "# 예측 및 평가\n",
    "Y_pred = lr_model.predict(X_test)\n",
    "LF_accuracy = accuracy_score(Y_test, Y_pred)\n",
    "print(f\"LF  예측값 : {Y_pred[:5]}\")\n",
    "print(f\"LF  정확도 : {LF_accuracy : .4f}\\n\")"
   ]
  },
  {
   "cell_type": "code",
   "execution_count": 27,
   "id": "7b00adeb-09de-4bc6-80e1-f11f0db1cd42",
   "metadata": {},
   "outputs": [
    {
     "name": "stdout",
     "output_type": "stream",
     "text": [
      "KNN 예측값 : [1 0 1 1 1]\n",
      "KNN 정확도 : 0.7734\n"
     ]
    }
   ],
   "source": [
    "# KNN\n",
    "from sklearn.neighbors import KNeighborsClassifier\n",
    "\n",
    "# KNN 모델 학습\n",
    "knn_model = KNeighborsClassifier(n_neighbors=5)  # k값을 5로 설정\n",
    "knn_model.fit(X_train, Y_train)\n",
    "\n",
    "# 예측 및 평가\n",
    "Y_pred = knn_model.predict(X_test)\n",
    "knn_accuracy = accuracy_score(Y_test, Y_pred)\n",
    "\n",
    "print(f\"KNN 예측값 : {Y_pred[:5]}\")\n",
    "print(f\"KNN 정확도 : {knn_accuracy:.4f}\")"
   ]
  },
  {
   "cell_type": "code",
   "execution_count": null,
   "id": "e4ec1c56-3bf5-4787-812c-b811863f2497",
   "metadata": {},
   "outputs": [],
   "source": []
  }
 ],
 "metadata": {
  "kernelspec": {
   "display_name": "Python 3 (ipykernel)",
   "language": "python",
   "name": "python3"
  },
  "language_info": {
   "codemirror_mode": {
    "name": "ipython",
    "version": 3
   },
   "file_extension": ".py",
   "mimetype": "text/x-python",
   "name": "python",
   "nbconvert_exporter": "python",
   "pygments_lexer": "ipython3",
   "version": "3.12.7"
  }
 },
 "nbformat": 4,
 "nbformat_minor": 5
}
