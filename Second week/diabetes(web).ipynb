{
 "cells": [
  {
   "cell_type": "code",
   "execution_count": 1,
   "id": "70dc6901-a907-467e-981e-dd20ee26f6ae",
   "metadata": {},
   "outputs": [
    {
     "name": "stdout",
     "output_type": "stream",
     "text": [
      "<bound method NDFrame.head of      Pregnancies  Glucose  BloodPressure  SkinThickness  Insulin   BMI  \\\n",
      "0              6      148             72             35        0  33.6   \n",
      "1              1       85             66             29        0  26.6   \n",
      "2              8      183             64              0        0  23.3   \n",
      "3              1       89             66             23       94  28.1   \n",
      "4              0      137             40             35      168  43.1   \n",
      "..           ...      ...            ...            ...      ...   ...   \n",
      "763           10      101             76             48      180  32.9   \n",
      "764            2      122             70             27        0  36.8   \n",
      "765            5      121             72             23      112  26.2   \n",
      "766            1      126             60              0        0  30.1   \n",
      "767            1       93             70             31        0  30.4   \n",
      "\n",
      "     DiabetesPedigreeFunction  Age  Outcome  \n",
      "0                       0.627   50        1  \n",
      "1                       0.351   31        0  \n",
      "2                       0.672   32        1  \n",
      "3                       0.167   21        0  \n",
      "4                       2.288   33        1  \n",
      "..                        ...  ...      ...  \n",
      "763                     0.171   63        0  \n",
      "764                     0.340   27        0  \n",
      "765                     0.245   30        0  \n",
      "766                     0.349   47        1  \n",
      "767                     0.315   23        0  \n",
      "\n",
      "[768 rows x 9 columns]>\n",
      "Index(['Pregnancies', 'Glucose', 'BloodPressure', 'SkinThickness', 'Insulin',\n",
      "       'BMI', 'DiabetesPedigreeFunction', 'Age', 'Outcome'],\n",
      "      dtype='object')\n"
     ]
    }
   ],
   "source": [
    "import pandas as pd\n",
    "\n",
    "# GitHub의 CSV 파일 URL\n",
    "url = \"https://raw.githubusercontent.com/MyungKyuYi/AI-class/refs/heads/main/diabetes.csv\"\n",
    "\n",
    "df = pd.read_csv(url)\n",
    "\n",
    "print(df.head)\n",
    "print(df.columns)"
   ]
  },
  {
   "cell_type": "code",
   "execution_count": 4,
   "id": "b357da50-1406-4312-9bf9-b62d6b371e2b",
   "metadata": {},
   "outputs": [],
   "source": [
    "from sklearn.preprocessing import LabelEncoder\n",
    "from sklearn.model_selection import train_test_split\n",
    "\n",
    "X = df.iloc[ :, : -1]\n",
    "Y = LabelEncoder().fit_transform(df[\"Outcome\"])\n",
    "\n",
    "xtrain, xtest, ytrain, ytest = train_test_split(X, Y, test_size = 0.2, random_state = 50)"
   ]
  },
  {
   "cell_type": "code",
   "execution_count": 7,
   "id": "c5a131a4-1dbd-42c8-acf3-38e254c5bd94",
   "metadata": {},
   "outputs": [
    {
     "name": "stdout",
     "output_type": "stream",
     "text": [
      "DT  예측값 : [0 1 0 0 0]\n",
      "DT  정확도 :  0.6753\n",
      "\n"
     ]
    }
   ],
   "source": [
    "# DT\n",
    "from sklearn.tree import DecisionTreeClassifier\n",
    "from sklearn.metrics import accuracy_score\n",
    "\n",
    "# DT 모델 학습\n",
    "dt_model = DecisionTreeClassifier()\n",
    "dt_model.fit(xtrain, ytrain)\n",
    "\n",
    "# 예측 및 평가\n",
    "ypred = dt_model.predict(xtest)\n",
    "DT_accuracy = accuracy_score(ytest, ypred)\n",
    "print(f\"DT  예측값 : {ypred[:5]}\")\n",
    "print(f\"DT  정확도 : {DT_accuracy : .4f}\\n\")"
   ]
  },
  {
   "cell_type": "code",
   "execution_count": 8,
   "id": "fece557b-619c-4c53-b3ff-4cec5cffaa70",
   "metadata": {},
   "outputs": [
    {
     "name": "stdout",
     "output_type": "stream",
     "text": [
      "RF  예측값 : [0 1 0 0 0]\n",
      "RF  정확도 :  0.7078\n",
      "\n"
     ]
    }
   ],
   "source": [
    "# RF\n",
    "from sklearn.ensemble import RandomForestClassifier\n",
    "\n",
    "# RF 모델 학습\n",
    "rf_model = RandomForestClassifier()\n",
    "rf_model.fit(xtrain, ytrain)\n",
    "\n",
    "# 예측 및 평가\n",
    "ypred = rf_model.predict(xtest)\n",
    "RF_accuracy = accuracy_score(ytest, ypred)\n",
    "print(f\"RF  예측값 : {ypred[:5]}\")\n",
    "print(f\"RF  정확도 : {RF_accuracy : .4f}\\n\")"
   ]
  },
  {
   "cell_type": "code",
   "execution_count": 9,
   "id": "b673030c-51de-4fbe-9093-b16698c1f39f",
   "metadata": {},
   "outputs": [
    {
     "name": "stdout",
     "output_type": "stream",
     "text": [
      "SVM 예측값 : [0 1 0 0 0]\n",
      "SVM 정확도 :  0.7273\n",
      "\n"
     ]
    }
   ],
   "source": [
    "# SVM\n",
    "from sklearn.svm import SVC\n",
    "\n",
    "# SVM 모델 학습\n",
    "svm_model = SVC()\n",
    "svm_model.fit(xtrain, ytrain)\n",
    "\n",
    "# 예측 및 평가\n",
    "ypred = svm_model.predict(xtest)\n",
    "SVM_accuracy = accuracy_score(ytest, ypred)\n",
    "print(f\"SVM 예측값 : {ypred[:5]}\")\n",
    "print(f\"SVM 정확도 : {SVM_accuracy : .4f}\\n\")"
   ]
  },
  {
   "cell_type": "code",
   "execution_count": 10,
   "id": "0e1abab5-74c0-4530-95f0-7d828a8ea48b",
   "metadata": {},
   "outputs": [
    {
     "name": "stdout",
     "output_type": "stream",
     "text": [
      "LF  예측값 : [0 1 0 0 0]\n",
      "LF  정확도 :  0.7338\n",
      "\n"
     ]
    }
   ],
   "source": [
    "# LF\n",
    "from sklearn.linear_model import LogisticRegression\n",
    "\n",
    "# LF 모델 학습\n",
    "lr_model = LogisticRegression(max_iter = 200)\n",
    "lr_model.fit(xtrain, ytrain)\n",
    "\n",
    "# 예측 및 평가\n",
    "ypred = lr_model.predict(xtest)\n",
    "LF_accuracy = accuracy_score(ytest, ypred)\n",
    "print(f\"LF  예측값 : {ypred[:5]}\")\n",
    "print(f\"LF  정확도 : {LF_accuracy : .4f}\\n\")"
   ]
  },
  {
   "cell_type": "code",
   "execution_count": 11,
   "id": "e5a570a7-e950-4640-9981-ec9a5fd3d027",
   "metadata": {},
   "outputs": [
    {
     "name": "stdout",
     "output_type": "stream",
     "text": [
      "KNN 예측값 : [0 1 0 0 0]\n",
      "KNN 정확도 : 0.6883\n"
     ]
    }
   ],
   "source": [
    "# KNN\n",
    "from sklearn.neighbors import KNeighborsClassifier\n",
    "\n",
    "# KNN 모델 학습\n",
    "knn_model = KNeighborsClassifier(n_neighbors=5)  # k값을 5로 설정\n",
    "knn_model.fit(xtrain, ytrain)\n",
    "\n",
    "# 예측 및 평가\n",
    "ypred = knn_model.predict(xtest)\n",
    "knn_accuracy = accuracy_score(ytest, ypred)\n",
    "\n",
    "print(f\"KNN 예측값 : {ypred[:5]}\")\n",
    "print(f\"KNN 정확도 : {knn_accuracy:.4f}\")"
   ]
  },
  {
   "cell_type": "code",
   "execution_count": null,
   "id": "aba4bb64-c4be-4a30-a7dc-52ce714651d2",
   "metadata": {},
   "outputs": [],
   "source": []
  }
 ],
 "metadata": {
  "kernelspec": {
   "display_name": "Python 3 (ipykernel)",
   "language": "python",
   "name": "python3"
  },
  "language_info": {
   "codemirror_mode": {
    "name": "ipython",
    "version": 3
   },
   "file_extension": ".py",
   "mimetype": "text/x-python",
   "name": "python",
   "nbconvert_exporter": "python",
   "pygments_lexer": "ipython3",
   "version": "3.12.7"
  }
 },
 "nbformat": 4,
 "nbformat_minor": 5
}
