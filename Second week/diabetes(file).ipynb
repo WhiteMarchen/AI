{
 "cells": [
  {
   "cell_type": "code",
   "execution_count": 3,
   "id": "618366f9-0bad-4e64-bea5-8f271fbd0d5e",
   "metadata": {},
   "outputs": [
    {
     "name": "stdout",
     "output_type": "stream",
     "text": [
      "<bound method NDFrame.head of      Pregnancies  Glucose  BloodPressure  SkinThickness  Insulin   BMI  \\\n",
      "0              6      148             72             35        0  33.6   \n",
      "1              1       85             66             29        0  26.6   \n",
      "2              8      183             64              0        0  23.3   \n",
      "3              1       89             66             23       94  28.1   \n",
      "4              0      137             40             35      168  43.1   \n",
      "..           ...      ...            ...            ...      ...   ...   \n",
      "763           10      101             76             48      180  32.9   \n",
      "764            2      122             70             27        0  36.8   \n",
      "765            5      121             72             23      112  26.2   \n",
      "766            1      126             60              0        0  30.1   \n",
      "767            1       93             70             31        0  30.4   \n",
      "\n",
      "     DiabetesPedigreeFunction  Age  Outcome  \n",
      "0                       0.627   50        1  \n",
      "1                       0.351   31        0  \n",
      "2                       0.672   32        1  \n",
      "3                       0.167   21        0  \n",
      "4                       2.288   33        1  \n",
      "..                        ...  ...      ...  \n",
      "763                     0.171   63        0  \n",
      "764                     0.340   27        0  \n",
      "765                     0.245   30        0  \n",
      "766                     0.349   47        1  \n",
      "767                     0.315   23        0  \n",
      "\n",
      "[768 rows x 9 columns]>\n",
      "Index(['Pregnancies', 'Glucose', 'BloodPressure', 'SkinThickness', 'Insulin',\n",
      "       'BMI', 'DiabetesPedigreeFunction', 'Age', 'Outcome'],\n",
      "      dtype='object')\n"
     ]
    }
   ],
   "source": [
    "import pandas as pd\n",
    "from sklearn.model_selection import train_test_split\n",
    "from sklearn.preprocessing import LabelEncoder\n",
    "\n",
    "file_path = \"/Users/marchen/Desktop/programming/AI/Second week/file/diabetes.csv\"\n",
    "df = pd.read_csv(file_path)\n",
    "\n",
    "X = df.iloc[ :, :-1]\n",
    "Y = LabelEncoder().fit_transform(df[\"Outcome\"])\n",
    "\n",
    "print(df.head)\n",
    "print(df.columns)"
   ]
  },
  {
   "cell_type": "code",
   "execution_count": 4,
   "id": "32b1912c-ae42-414a-9728-994eeed66e8a",
   "metadata": {},
   "outputs": [],
   "source": [
    "X_train, X_test, Y_train, Y_test = train_test_split(X, Y, test_size = 0.3, random_state = 50)"
   ]
  },
  {
   "cell_type": "code",
   "execution_count": 5,
   "id": "7ed11340-054e-441e-884a-096e17b37c7b",
   "metadata": {},
   "outputs": [
    {
     "name": "stdout",
     "output_type": "stream",
     "text": [
      "DT  예측값 : [0 1 0 0 0]\n",
      "DT  정확도 :  0.6840\n",
      "\n"
     ]
    }
   ],
   "source": [
    "# DT\n",
    "from sklearn.tree import DecisionTreeClassifier\n",
    "from sklearn.metrics import accuracy_score\n",
    "\n",
    "# DT 모델 학습\n",
    "dt_model = DecisionTreeClassifier()\n",
    "dt_model.fit(X_train, Y_train)\n",
    "\n",
    "# 예측 및 평가\n",
    "Y_pred = dt_model.predict(X_test)\n",
    "DT_accuracy = accuracy_score(Y_test, Y_pred)\n",
    "print(f\"DT  예측값 : {Y_pred[:5]}\")\n",
    "print(f\"DT  정확도 : {DT_accuracy : .4f}\\n\")"
   ]
  },
  {
   "cell_type": "code",
   "execution_count": 6,
   "id": "b85088ed-24b1-48da-a28b-a5198a32e0f5",
   "metadata": {},
   "outputs": [
    {
     "name": "stdout",
     "output_type": "stream",
     "text": [
      "RF  예측값 : [0 1 0 0 0]\n",
      "RF  정확도 :  0.7489\n",
      "\n"
     ]
    }
   ],
   "source": [
    "# RF\n",
    "from sklearn.ensemble import RandomForestClassifier\n",
    "\n",
    "# RF 모델 학습\n",
    "rf_model = RandomForestClassifier()\n",
    "rf_model.fit(X_train, Y_train)\n",
    "\n",
    "# 예측 및 평가\n",
    "Y_pred = rf_model.predict(X_test)\n",
    "RF_accuracy = accuracy_score(Y_test, Y_pred)\n",
    "print(f\"RF  예측값 : {Y_pred[:5]}\")\n",
    "print(f\"RF  정확도 : {RF_accuracy : .4f}\\n\")"
   ]
  },
  {
   "cell_type": "code",
   "execution_count": 7,
   "id": "0dd891be-d208-4025-a2ac-20ef5b5cf932",
   "metadata": {},
   "outputs": [
    {
     "name": "stdout",
     "output_type": "stream",
     "text": [
      "SVM 예측값 : [0 1 0 0 0]\n",
      "SVM 정확도 :  0.7489\n",
      "\n"
     ]
    }
   ],
   "source": [
    "# SVM\n",
    "from sklearn.svm import SVC\n",
    "\n",
    "# SVM 모델 학습\n",
    "svm_model = SVC()\n",
    "svm_model.fit(X_train, Y_train)\n",
    "\n",
    "# 예측 및 평가\n",
    "Y_pred = svm_model.predict(X_test)\n",
    "SVM_accuracy = accuracy_score(Y_test, Y_pred)\n",
    "print(f\"SVM 예측값 : {Y_pred[:5]}\")\n",
    "print(f\"SVM 정확도 : {SVM_accuracy : .4f}\\n\")"
   ]
  },
  {
   "cell_type": "code",
   "execution_count": 8,
   "id": "4eb67162-b911-41e3-93a6-043b28edb11a",
   "metadata": {},
   "outputs": [
    {
     "name": "stdout",
     "output_type": "stream",
     "text": [
      "LF  예측값 : [0 1 0 0 0]\n",
      "LF  정확도 :  0.7403\n",
      "\n"
     ]
    }
   ],
   "source": [
    "# LF\n",
    "from sklearn.linear_model import LogisticRegression\n",
    "\n",
    "# LF 모델 학습\n",
    "lr_model = LogisticRegression(max_iter = 200)\n",
    "lr_model.fit(X_train, Y_train)\n",
    "\n",
    "# 예측 및 평가\n",
    "Y_pred = lr_model.predict(X_test)\n",
    "LF_accuracy = accuracy_score(Y_test, Y_pred)\n",
    "print(f\"LF  예측값 : {Y_pred[:5]}\")\n",
    "print(f\"LF  정확도 : {LF_accuracy : .4f}\\n\")"
   ]
  },
  {
   "cell_type": "code",
   "execution_count": 9,
   "id": "93f9bd58-46eb-42f4-8cd2-06ffc280b4bd",
   "metadata": {},
   "outputs": [
    {
     "name": "stdout",
     "output_type": "stream",
     "text": [
      "KNN 예측값 : [0 1 0 0 0]\n",
      "KNN 정확도 : 0.6883\n"
     ]
    }
   ],
   "source": [
    "# KNN\n",
    "from sklearn.neighbors import KNeighborsClassifier\n",
    "\n",
    "# KNN 모델 학습\n",
    "knn_model = KNeighborsClassifier(n_neighbors=5)  # k값을 5로 설정\n",
    "knn_model.fit(X_train, Y_train)\n",
    "\n",
    "# 예측 및 평가\n",
    "Y_pred = knn_model.predict(X_test)\n",
    "knn_accuracy = accuracy_score(Y_test, Y_pred)\n",
    "\n",
    "print(f\"KNN 예측값 : {Y_pred[:5]}\")\n",
    "print(f\"KNN 정확도 : {knn_accuracy:.4f}\")"
   ]
  },
  {
   "cell_type": "code",
   "execution_count": null,
   "id": "a9500370-3be6-4753-a91a-2464ff701dd8",
   "metadata": {},
   "outputs": [],
   "source": []
  }
 ],
 "metadata": {
  "kernelspec": {
   "display_name": "Python 3 (ipykernel)",
   "language": "python",
   "name": "python3"
  },
  "language_info": {
   "codemirror_mode": {
    "name": "ipython",
    "version": 3
   },
   "file_extension": ".py",
   "mimetype": "text/x-python",
   "name": "python",
   "nbconvert_exporter": "python",
   "pygments_lexer": "ipython3",
   "version": "3.12.7"
  }
 },
 "nbformat": 4,
 "nbformat_minor": 5
}
