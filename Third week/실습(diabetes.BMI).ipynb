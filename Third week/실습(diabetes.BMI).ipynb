{
 "cells": [
  {
   "cell_type": "code",
   "execution_count": 3,
   "id": "f48ef147-037a-4bc7-80d0-4c82e2446631",
   "metadata": {},
   "outputs": [],
   "source": [
    "import pandas as pd\n",
    "from sklearn.model_selection import train_test_split\n",
    "\n",
    "file_path = \"/Users/marchen/Desktop/programming/AI/Third week/file/diabetes.csv\"\n",
    "df = pd.read_csv(file_path)\n",
    "\n",
    "X = df.drop(columns = ['BMI'])\n",
    "Y = df['BMI']"
   ]
  },
  {
   "cell_type": "markdown",
   "id": "462d7083-c769-42df-a072-3e27ec6bb765",
   "metadata": {},
   "source": [
    "#### X는 입력 데이터 셋(feature) -> 머신 러닝 모델에 학습시킬 데이터(특징)\n",
    "#### Y는 정답 데이터 셋(label) -> 예측하려는 목표 값"
   ]
  },
  {
   "cell_type": "code",
   "execution_count": 4,
   "id": "425ae4be-a3ed-444d-8e06-0730a915abef",
   "metadata": {},
   "outputs": [
    {
     "data": {
      "text/html": [
       "<div>\n",
       "<style scoped>\n",
       "    .dataframe tbody tr th:only-of-type {\n",
       "        vertical-align: middle;\n",
       "    }\n",
       "\n",
       "    .dataframe tbody tr th {\n",
       "        vertical-align: top;\n",
       "    }\n",
       "\n",
       "    .dataframe thead th {\n",
       "        text-align: right;\n",
       "    }\n",
       "</style>\n",
       "<table border=\"1\" class=\"dataframe\">\n",
       "  <thead>\n",
       "    <tr style=\"text-align: right;\">\n",
       "      <th></th>\n",
       "      <th>Pregnancies</th>\n",
       "      <th>Glucose</th>\n",
       "      <th>BloodPressure</th>\n",
       "      <th>SkinThickness</th>\n",
       "      <th>Insulin</th>\n",
       "      <th>BMI</th>\n",
       "      <th>DiabetesPedigreeFunction</th>\n",
       "      <th>Age</th>\n",
       "      <th>Outcome</th>\n",
       "    </tr>\n",
       "  </thead>\n",
       "  <tbody>\n",
       "    <tr>\n",
       "      <th>0</th>\n",
       "      <td>6</td>\n",
       "      <td>148</td>\n",
       "      <td>72</td>\n",
       "      <td>35</td>\n",
       "      <td>0</td>\n",
       "      <td>33.6</td>\n",
       "      <td>0.627</td>\n",
       "      <td>50</td>\n",
       "      <td>1</td>\n",
       "    </tr>\n",
       "    <tr>\n",
       "      <th>1</th>\n",
       "      <td>1</td>\n",
       "      <td>85</td>\n",
       "      <td>66</td>\n",
       "      <td>29</td>\n",
       "      <td>0</td>\n",
       "      <td>26.6</td>\n",
       "      <td>0.351</td>\n",
       "      <td>31</td>\n",
       "      <td>0</td>\n",
       "    </tr>\n",
       "    <tr>\n",
       "      <th>2</th>\n",
       "      <td>8</td>\n",
       "      <td>183</td>\n",
       "      <td>64</td>\n",
       "      <td>0</td>\n",
       "      <td>0</td>\n",
       "      <td>23.3</td>\n",
       "      <td>0.672</td>\n",
       "      <td>32</td>\n",
       "      <td>1</td>\n",
       "    </tr>\n",
       "    <tr>\n",
       "      <th>3</th>\n",
       "      <td>1</td>\n",
       "      <td>89</td>\n",
       "      <td>66</td>\n",
       "      <td>23</td>\n",
       "      <td>94</td>\n",
       "      <td>28.1</td>\n",
       "      <td>0.167</td>\n",
       "      <td>21</td>\n",
       "      <td>0</td>\n",
       "    </tr>\n",
       "    <tr>\n",
       "      <th>4</th>\n",
       "      <td>0</td>\n",
       "      <td>137</td>\n",
       "      <td>40</td>\n",
       "      <td>35</td>\n",
       "      <td>168</td>\n",
       "      <td>43.1</td>\n",
       "      <td>2.288</td>\n",
       "      <td>33</td>\n",
       "      <td>1</td>\n",
       "    </tr>\n",
       "    <tr>\n",
       "      <th>...</th>\n",
       "      <td>...</td>\n",
       "      <td>...</td>\n",
       "      <td>...</td>\n",
       "      <td>...</td>\n",
       "      <td>...</td>\n",
       "      <td>...</td>\n",
       "      <td>...</td>\n",
       "      <td>...</td>\n",
       "      <td>...</td>\n",
       "    </tr>\n",
       "    <tr>\n",
       "      <th>763</th>\n",
       "      <td>10</td>\n",
       "      <td>101</td>\n",
       "      <td>76</td>\n",
       "      <td>48</td>\n",
       "      <td>180</td>\n",
       "      <td>32.9</td>\n",
       "      <td>0.171</td>\n",
       "      <td>63</td>\n",
       "      <td>0</td>\n",
       "    </tr>\n",
       "    <tr>\n",
       "      <th>764</th>\n",
       "      <td>2</td>\n",
       "      <td>122</td>\n",
       "      <td>70</td>\n",
       "      <td>27</td>\n",
       "      <td>0</td>\n",
       "      <td>36.8</td>\n",
       "      <td>0.340</td>\n",
       "      <td>27</td>\n",
       "      <td>0</td>\n",
       "    </tr>\n",
       "    <tr>\n",
       "      <th>765</th>\n",
       "      <td>5</td>\n",
       "      <td>121</td>\n",
       "      <td>72</td>\n",
       "      <td>23</td>\n",
       "      <td>112</td>\n",
       "      <td>26.2</td>\n",
       "      <td>0.245</td>\n",
       "      <td>30</td>\n",
       "      <td>0</td>\n",
       "    </tr>\n",
       "    <tr>\n",
       "      <th>766</th>\n",
       "      <td>1</td>\n",
       "      <td>126</td>\n",
       "      <td>60</td>\n",
       "      <td>0</td>\n",
       "      <td>0</td>\n",
       "      <td>30.1</td>\n",
       "      <td>0.349</td>\n",
       "      <td>47</td>\n",
       "      <td>1</td>\n",
       "    </tr>\n",
       "    <tr>\n",
       "      <th>767</th>\n",
       "      <td>1</td>\n",
       "      <td>93</td>\n",
       "      <td>70</td>\n",
       "      <td>31</td>\n",
       "      <td>0</td>\n",
       "      <td>30.4</td>\n",
       "      <td>0.315</td>\n",
       "      <td>23</td>\n",
       "      <td>0</td>\n",
       "    </tr>\n",
       "  </tbody>\n",
       "</table>\n",
       "<p>768 rows × 9 columns</p>\n",
       "</div>"
      ],
      "text/plain": [
       "     Pregnancies  Glucose  BloodPressure  SkinThickness  Insulin   BMI  \\\n",
       "0              6      148             72             35        0  33.6   \n",
       "1              1       85             66             29        0  26.6   \n",
       "2              8      183             64              0        0  23.3   \n",
       "3              1       89             66             23       94  28.1   \n",
       "4              0      137             40             35      168  43.1   \n",
       "..           ...      ...            ...            ...      ...   ...   \n",
       "763           10      101             76             48      180  32.9   \n",
       "764            2      122             70             27        0  36.8   \n",
       "765            5      121             72             23      112  26.2   \n",
       "766            1      126             60              0        0  30.1   \n",
       "767            1       93             70             31        0  30.4   \n",
       "\n",
       "     DiabetesPedigreeFunction  Age  Outcome  \n",
       "0                       0.627   50        1  \n",
       "1                       0.351   31        0  \n",
       "2                       0.672   32        1  \n",
       "3                       0.167   21        0  \n",
       "4                       2.288   33        1  \n",
       "..                        ...  ...      ...  \n",
       "763                     0.171   63        0  \n",
       "764                     0.340   27        0  \n",
       "765                     0.245   30        0  \n",
       "766                     0.349   47        1  \n",
       "767                     0.315   23        0  \n",
       "\n",
       "[768 rows x 9 columns]"
      ]
     },
     "execution_count": 4,
     "metadata": {},
     "output_type": "execute_result"
    }
   ],
   "source": [
    "df"
   ]
  },
  {
   "cell_type": "code",
   "execution_count": 5,
   "id": "663be178-c209-4212-a008-75096a96a425",
   "metadata": {},
   "outputs": [
    {
     "data": {
      "text/html": [
       "<div>\n",
       "<style scoped>\n",
       "    .dataframe tbody tr th:only-of-type {\n",
       "        vertical-align: middle;\n",
       "    }\n",
       "\n",
       "    .dataframe tbody tr th {\n",
       "        vertical-align: top;\n",
       "    }\n",
       "\n",
       "    .dataframe thead th {\n",
       "        text-align: right;\n",
       "    }\n",
       "</style>\n",
       "<table border=\"1\" class=\"dataframe\">\n",
       "  <thead>\n",
       "    <tr style=\"text-align: right;\">\n",
       "      <th></th>\n",
       "      <th>Pregnancies</th>\n",
       "      <th>Glucose</th>\n",
       "      <th>BloodPressure</th>\n",
       "      <th>SkinThickness</th>\n",
       "      <th>Insulin</th>\n",
       "      <th>BMI</th>\n",
       "      <th>DiabetesPedigreeFunction</th>\n",
       "      <th>Age</th>\n",
       "    </tr>\n",
       "  </thead>\n",
       "  <tbody>\n",
       "    <tr>\n",
       "      <th>0</th>\n",
       "      <td>6</td>\n",
       "      <td>148</td>\n",
       "      <td>72</td>\n",
       "      <td>35</td>\n",
       "      <td>0</td>\n",
       "      <td>33.6</td>\n",
       "      <td>0.627</td>\n",
       "      <td>50</td>\n",
       "    </tr>\n",
       "    <tr>\n",
       "      <th>1</th>\n",
       "      <td>1</td>\n",
       "      <td>85</td>\n",
       "      <td>66</td>\n",
       "      <td>29</td>\n",
       "      <td>0</td>\n",
       "      <td>26.6</td>\n",
       "      <td>0.351</td>\n",
       "      <td>31</td>\n",
       "    </tr>\n",
       "    <tr>\n",
       "      <th>2</th>\n",
       "      <td>8</td>\n",
       "      <td>183</td>\n",
       "      <td>64</td>\n",
       "      <td>0</td>\n",
       "      <td>0</td>\n",
       "      <td>23.3</td>\n",
       "      <td>0.672</td>\n",
       "      <td>32</td>\n",
       "    </tr>\n",
       "    <tr>\n",
       "      <th>3</th>\n",
       "      <td>1</td>\n",
       "      <td>89</td>\n",
       "      <td>66</td>\n",
       "      <td>23</td>\n",
       "      <td>94</td>\n",
       "      <td>28.1</td>\n",
       "      <td>0.167</td>\n",
       "      <td>21</td>\n",
       "    </tr>\n",
       "    <tr>\n",
       "      <th>4</th>\n",
       "      <td>0</td>\n",
       "      <td>137</td>\n",
       "      <td>40</td>\n",
       "      <td>35</td>\n",
       "      <td>168</td>\n",
       "      <td>43.1</td>\n",
       "      <td>2.288</td>\n",
       "      <td>33</td>\n",
       "    </tr>\n",
       "    <tr>\n",
       "      <th>...</th>\n",
       "      <td>...</td>\n",
       "      <td>...</td>\n",
       "      <td>...</td>\n",
       "      <td>...</td>\n",
       "      <td>...</td>\n",
       "      <td>...</td>\n",
       "      <td>...</td>\n",
       "      <td>...</td>\n",
       "    </tr>\n",
       "    <tr>\n",
       "      <th>763</th>\n",
       "      <td>10</td>\n",
       "      <td>101</td>\n",
       "      <td>76</td>\n",
       "      <td>48</td>\n",
       "      <td>180</td>\n",
       "      <td>32.9</td>\n",
       "      <td>0.171</td>\n",
       "      <td>63</td>\n",
       "    </tr>\n",
       "    <tr>\n",
       "      <th>764</th>\n",
       "      <td>2</td>\n",
       "      <td>122</td>\n",
       "      <td>70</td>\n",
       "      <td>27</td>\n",
       "      <td>0</td>\n",
       "      <td>36.8</td>\n",
       "      <td>0.340</td>\n",
       "      <td>27</td>\n",
       "    </tr>\n",
       "    <tr>\n",
       "      <th>765</th>\n",
       "      <td>5</td>\n",
       "      <td>121</td>\n",
       "      <td>72</td>\n",
       "      <td>23</td>\n",
       "      <td>112</td>\n",
       "      <td>26.2</td>\n",
       "      <td>0.245</td>\n",
       "      <td>30</td>\n",
       "    </tr>\n",
       "    <tr>\n",
       "      <th>766</th>\n",
       "      <td>1</td>\n",
       "      <td>126</td>\n",
       "      <td>60</td>\n",
       "      <td>0</td>\n",
       "      <td>0</td>\n",
       "      <td>30.1</td>\n",
       "      <td>0.349</td>\n",
       "      <td>47</td>\n",
       "    </tr>\n",
       "    <tr>\n",
       "      <th>767</th>\n",
       "      <td>1</td>\n",
       "      <td>93</td>\n",
       "      <td>70</td>\n",
       "      <td>31</td>\n",
       "      <td>0</td>\n",
       "      <td>30.4</td>\n",
       "      <td>0.315</td>\n",
       "      <td>23</td>\n",
       "    </tr>\n",
       "  </tbody>\n",
       "</table>\n",
       "<p>768 rows × 8 columns</p>\n",
       "</div>"
      ],
      "text/plain": [
       "     Pregnancies  Glucose  BloodPressure  SkinThickness  Insulin   BMI  \\\n",
       "0              6      148             72             35        0  33.6   \n",
       "1              1       85             66             29        0  26.6   \n",
       "2              8      183             64              0        0  23.3   \n",
       "3              1       89             66             23       94  28.1   \n",
       "4              0      137             40             35      168  43.1   \n",
       "..           ...      ...            ...            ...      ...   ...   \n",
       "763           10      101             76             48      180  32.9   \n",
       "764            2      122             70             27        0  36.8   \n",
       "765            5      121             72             23      112  26.2   \n",
       "766            1      126             60              0        0  30.1   \n",
       "767            1       93             70             31        0  30.4   \n",
       "\n",
       "     DiabetesPedigreeFunction  Age  \n",
       "0                       0.627   50  \n",
       "1                       0.351   31  \n",
       "2                       0.672   32  \n",
       "3                       0.167   21  \n",
       "4                       2.288   33  \n",
       "..                        ...  ...  \n",
       "763                     0.171   63  \n",
       "764                     0.340   27  \n",
       "765                     0.245   30  \n",
       "766                     0.349   47  \n",
       "767                     0.315   23  \n",
       "\n",
       "[768 rows x 8 columns]"
      ]
     },
     "execution_count": 5,
     "metadata": {},
     "output_type": "execute_result"
    }
   ],
   "source": [
    "df = df.drop(columns = ['Outcome'])\n",
    "df"
   ]
  },
  {
   "cell_type": "code",
   "execution_count": 6,
   "id": "b4c2ce90-82d2-43c4-bf09-be6f8ed4ba83",
   "metadata": {},
   "outputs": [
    {
     "data": {
      "text/plain": [
       "Pregnancies                 0\n",
       "Glucose                     0\n",
       "BloodPressure               0\n",
       "SkinThickness               0\n",
       "Insulin                     0\n",
       "BMI                         0\n",
       "DiabetesPedigreeFunction    0\n",
       "Age                         0\n",
       "dtype: int64"
      ]
     },
     "execution_count": 6,
     "metadata": {},
     "output_type": "execute_result"
    }
   ],
   "source": [
    "# 결측치 제거\n",
    "df.isnull().sum()"
   ]
  },
  {
   "cell_type": "markdown",
   "id": "45c6e945-563c-4ac1-a62a-b117d0d0d385",
   "metadata": {},
   "source": [
    "### 결측치 제거하는 이유\n",
    "1. 머신 러닝은 숫자 데이터를 받아 학습한다.\n",
    "2. 결측치가 있으면 계산할 수 없는 값(NaN)이 포함 된다.\n",
    "3. 통계적 분석을 할 때 결측치가 데이터 분석 정확도를 저하시킨다.\n",
    "4. 결측치가 많으면 모델은 일부 데이터를 학습 못해 예측력이 떨어진다.\n",
    "5. 모델 훈련 과정에서 오류가 발생한다."
   ]
  },
  {
   "cell_type": "code",
   "execution_count": 7,
   "id": "3952e101-32a5-4337-a056-40e4f6c10a10",
   "metadata": {},
   "outputs": [
    {
     "name": "stdout",
     "output_type": "stream",
     "text": [
      "(537, 8) (537,)\n",
      "(231, 8) (231,)\n"
     ]
    }
   ],
   "source": [
    "# train, test 분류\n",
    "X_train, X_test, y_train, y_test = train_test_split(X, Y, test_size=0.3, random_state = 43)\n",
    "\n",
    "print(X_train.shape, y_train.shape)\n",
    "print(X_test.shape, y_test.shape)"
   ]
  },
  {
   "cell_type": "markdown",
   "id": "a0f35c7a-f118-41ba-b59b-5e8f9d037968",
   "metadata": {},
   "source": [
    "#### X_train : 훈련 데이터 셋(입력값) - test_size=0.3으로 하여 전체의 70%를 훈련 데이터로 사용\n",
    "#### X_test : 테스트 데이터 셋(입력값) - X_train에 제외된 훈련되지 않은 나머지 데이터 30%\n",
    "#### y_train : 훈련 데이터 셋(출력값) - X_train에 대한 정답 값\n",
    "#### y_test : 훈련 데이터 셋(출력값) - X_test에 대한 정답 값"
   ]
  },
  {
   "cell_type": "markdown",
   "id": "975ab2a7-d446-427b-a68a-c89c56c29e01",
   "metadata": {},
   "source": [
    "#### ----------------------------------------"
   ]
  },
  {
   "cell_type": "markdown",
   "id": "2556a41c-ffc0-4161-bd0f-0e98e5d67f63",
   "metadata": {},
   "source": [
    "### MSE값이 크다고 문제가 되는 것은 아니지만 1보다 크게 나온 이유는 스케일링 과정을 하지 않은 경우와 DT 모델은 스케일링 영향이 크지 않다."
   ]
  },
  {
   "cell_type": "code",
   "execution_count": 8,
   "id": "54a171bc-2712-429d-82ca-7d781a7350cf",
   "metadata": {},
   "outputs": [],
   "source": [
    "# 데이터 스케일링\n",
    "\n",
    "from sklearn.preprocessing import StandardScaler\n",
    "\n",
    "scaler = StandardScaler()\n",
    "X_train_scaled = scaler.fit_transform(X_train)\n",
    "X_test_scaled = scaler.transform(X_test)"
   ]
  },
  {
   "cell_type": "code",
   "execution_count": 22,
   "id": "b062334f-6fbc-44e3-ae13-f5a7aae6afc4",
   "metadata": {},
   "outputs": [
    {
     "name": "stdout",
     "output_type": "stream",
     "text": [
      "DT 예측값 : [27.8 25.2 29.7 30.2 32.9]\n",
      "DT MSE : 64.4992\n"
     ]
    }
   ],
   "source": [
    "# DT\n",
    "\n",
    "from sklearn.tree import DecisionTreeRegressor\n",
    "from sklearn.metrics import mean_squared_error\n",
    "\n",
    "# DT 모델 학습\n",
    "dt_model = DecisionTreeRegressor()\n",
    "dt_model.fit(X_train_scaled, y_train)\n",
    "\n",
    "# 예측 및 평가\n",
    "y_pred = dt_model.predict(X_test_scaled)\n",
    "dt_mse = mean_squared_error(y_test, y_pred)\n",
    "\n",
    "print(f\"DT 예측값 : {y_pred[:5]}\")\n",
    "print(f\"DT MSE : {dt_mse:.4f}\")"
   ]
  },
  {
   "cell_type": "markdown",
   "id": "e15b8288-3985-4534-804e-24c1aa0a7b64",
   "metadata": {},
   "source": [
    "### RMSE는 실제 단위와 같은 스케일 값으로 변환한 오차값이다. #### 5 ~ 10 사이 값이 정상값"
   ]
  },
  {
   "cell_type": "code",
   "execution_count": 23,
   "id": "21956c06-c9cd-4192-9dad-94e5eb1b9f5b",
   "metadata": {},
   "outputs": [
    {
     "name": "stdout",
     "output_type": "stream",
     "text": [
      "DT RMSE : 8.0311\n"
     ]
    }
   ],
   "source": [
    "dt_rmse = dt_mse ** 0.5 # RMSE는 MSE의 제곱근\n",
    "\n",
    "print(f\"DT RMSE : {dt_rmse:.4f}\")"
   ]
  },
  {
   "cell_type": "code",
   "execution_count": 21,
   "id": "ad894c33-f6b0-41ba-8fe1-acf33f79abb8",
   "metadata": {},
   "outputs": [
    {
     "name": "stdout",
     "output_type": "stream",
     "text": [
      "RF 예측값 : [30.373 26.713 31.106 32.279 37.032]\n",
      "RF MSE : 38.2899\n"
     ]
    }
   ],
   "source": [
    "# RF\n",
    "\n",
    "from sklearn.ensemble import RandomForestRegressor\n",
    "\n",
    "# RF 모델 학습\n",
    "rf_model = RandomForestRegressor()\n",
    "rf_model.fit(X_train_scaled, y_train)\n",
    "\n",
    "# 예측 및 평가\n",
    "y_pred = rf_model.predict(X_test_scaled)\n",
    "rf_mse = mean_squared_error(y_test, y_pred)\n",
    "print(f\"RF 예측값 : {y_pred[:5]}\")\n",
    "print(f\"RF MSE : {rf_mse:.4f}\")"
   ]
  },
  {
   "cell_type": "code",
   "execution_count": 15,
   "id": "e013e356-d8f3-4ffc-a28c-461b0a9c0973",
   "metadata": {},
   "outputs": [
    {
     "name": "stdout",
     "output_type": "stream",
     "text": [
      "LF 예측값 : [27.02152986 30.83141152 30.06060067 32.61984792 38.28002057]\n",
      "LF MSE :  44.5012\n"
     ]
    }
   ],
   "source": [
    "# LF\n",
    "from sklearn.linear_model import LinearRegression\n",
    "\n",
    "# LF 모델 학습\n",
    "lr_model = LinearRegression()\n",
    "lr_model.fit(X_train_scaled, y_train)\n",
    "\n",
    "# 예측 및 평가\n",
    "y_pred = lr_model.predict(X_test_scaled)\n",
    "lr_mse = mean_squared_error(y_test, y_pred)\n",
    "print(f\"LF 예측값 : {y_pred[:5]}\")\n",
    "print(f\"LF MSE : {lr_mse : .4f}\")"
   ]
  },
  {
   "cell_type": "markdown",
   "id": "b6c65f24-f28f-42d3-bb16-0603a83d6e75",
   "metadata": {},
   "source": [
    "### DT와 RF과 같은 트리 기반 모델은 스케일링 영향을 받지 않는다.\n",
    "#### 데이터의 크기보다 특성 구간과 순서가 중요하기 때문이다.\n",
    "\n",
    "### 다만 거리 기반 모델(SVM,KNN 등)은 스케일링이 필요하다."
   ]
  },
  {
   "cell_type": "code",
   "execution_count": 18,
   "id": "edfbdceb-4ed1-41b2-bd8c-dc736c86e626",
   "metadata": {},
   "outputs": [
    {
     "name": "stdout",
     "output_type": "stream",
     "text": [
      "SVM 예측값 : [30.86556429 31.48540113 29.97148672 30.54403523 36.21685666]\n",
      "SVM MSE :  42.7878\n"
     ]
    }
   ],
   "source": [
    "# SVM\n",
    "\n",
    "from sklearn.svm import SVR\n",
    "\n",
    "# SVM 모델 학습\n",
    "svm_model = SVR(kernel = 'rbf') # 연속적인 데이터엔 rbf가 비선형 데이터로 변환하여 복잡 관계를 학습할 수 있다. 특히 BMI와 같은 의료 데이터\n",
    "svm_model.fit(X_train_scaled, y_train)\n",
    "\n",
    "# 예측 및 평가\n",
    "y_pred = svm_model.predict(X_test_scaled)\n",
    "svm_mse = mean_squared_error(y_test, y_pred)\n",
    "print(f\"SVM 예측값 : {y_pred[:5]}\")\n",
    "print(f\"SVM MSE : {svm_mse : .4f}\")"
   ]
  },
  {
   "cell_type": "code",
   "execution_count": 19,
   "id": "59a5849c-e858-4b04-babc-5976c00730ab",
   "metadata": {},
   "outputs": [
    {
     "name": "stdout",
     "output_type": "stream",
     "text": [
      "KNN 예측값 : [33.04 29.44 30.38 29.88 37.88]\n",
      "KNN MSE : 40.5787\n"
     ]
    }
   ],
   "source": [
    "# KNN\n",
    "\n",
    "from sklearn.neighbors import KNeighborsRegressor\n",
    "\n",
    "# KNN 회귀 모델 학습\n",
    "knn_model = KNeighborsRegressor(n_neighbors=5) # 데이터 포인트에서 가장 가까운 이웃을 참고해 값을 예측 - 여기선 5개로\n",
    "knn_model.fit(X_train_scaled, y_train)\n",
    "\n",
    "# 예측 및 평가\n",
    "y_pred = knn_model.predict(X_test_scaled)\n",
    "knn_mse = mean_squared_error(y_test, y_pred)\n",
    "\n",
    "print(f\"KNN 예측값 : {y_pred[:5]}\")\n",
    "print(f\"KNN MSE : {knn_mse:.4f}\")"
   ]
  },
  {
   "cell_type": "markdown",
   "id": "2457e708-b596-419a-8da2-25c15e8a2114",
   "metadata": {},
   "source": [
    "### BMI 평균값과 각 모델들의 MSE값 비교하기\n",
    "#### 평균값과 MSE값을 비교할 때 평균보다 크면 모델 성능이 좋지 않음"
   ]
  },
  {
   "cell_type": "code",
   "execution_count": 24,
   "id": "fa19e98d-a559-45e9-acca-b35dd8d51f3d",
   "metadata": {},
   "outputs": [
    {
     "name": "stdout",
     "output_type": "stream",
     "text": [
      "BMI 평균 : 31.9926\n",
      "\n",
      "\n",
      "DT MSE : 64.4992\n",
      "\n",
      "RF MSE : 38.2899\n",
      "\n",
      "LF MSE : 44.5012\n",
      "\n",
      "SVM MSE : 42.7878\n",
      "\n",
      "KNN MSE : 40.5787\n"
     ]
    }
   ],
   "source": [
    "bmi = df['BMI'].mean()\n",
    "print(f\"BMI 평균 : {bmi:.4f}\\n\\n\")\n",
    "print(f\"DT MSE : {dt_mse:.4f}\\n\")\n",
    "print(f\"RF MSE : {rf_mse:.4f}\\n\")\n",
    "print(f\"LF MSE : {lr_mse:.4f}\\n\")\n",
    "print(f\"SVM MSE : {svm_mse:.4f}\\n\")\n",
    "print(f\"KNN MSE : {knn_mse:.4f}\")"
   ]
  },
  {
   "cell_type": "markdown",
   "id": "be14d4ea-39bc-410f-a14b-9073f67f4206",
   "metadata": {},
   "source": [
    "### 좀 더 직관적으로 보기 편하게 RMSE로 값을 바꿔보자"
   ]
  },
  {
   "cell_type": "code",
   "execution_count": 25,
   "id": "447fd78f-d0cd-412f-8b1f-f1d098a0dbb2",
   "metadata": {},
   "outputs": [
    {
     "name": "stdout",
     "output_type": "stream",
     "text": [
      "DT RMSE : 8.0311\n",
      "\n",
      "RF RMSE : 6.1879\n",
      "\n",
      "LF RMSE : 6.6709\n",
      "\n",
      "SVM RMSE : 6.5412\n",
      "\n",
      "KNN RMSE : 6.3701\n"
     ]
    }
   ],
   "source": [
    "# RMSE는 MSE의 제곱근\n",
    "\n",
    "dt_rmse = dt_mse ** 0.5\n",
    "rf_rmse = rf_mse ** 0.5\n",
    "lr_rmse = lr_mse ** 0.5\n",
    "svm_rmse = svm_mse ** 0.5\n",
    "knn_rmse = knn_mse ** 0.5\n",
    "\n",
    "print(f\"DT RMSE : {dt_rmse:.4f}\\n\")\n",
    "print(f\"RF RMSE : {rf_rmse:.4f}\\n\")\n",
    "print(f\"LF RMSE : {lr_rmse:.4f}\\n\")\n",
    "print(f\"SVM RMSE : {svm_rmse:.4f}\\n\")\n",
    "print(f\"KNN RMSE : {knn_rmse:.4f}\")"
   ]
  },
  {
   "cell_type": "markdown",
   "id": "50ef3cd3-d724-4dab-8743-69d9223022d7",
   "metadata": {},
   "source": [
    "### RMSE 값은 BMI에서 평균적으로 (RMSE)kg/m² 정도 차이가 난다는 의미이다."
   ]
  },
  {
   "cell_type": "code",
   "execution_count": 29,
   "id": "73002ad3-b2d6-425e-8e7d-9ac7a26f64b3",
   "metadata": {},
   "outputs": [
    {
     "data": {
      "image/png": "[encoded data removed]",
      "text/plain": [
       "<Figure size 640x480 with 1 Axes>"
      ]
     },
     "metadata": {},
     "output_type": "display_data"
    }
   ],
   "source": [
    "# 산점도 확인\n",
    "\n",
    "import matplotlib.pyplot as plt\n",
    "\n",
    "plt.scatter(df['BMI'], df['Age']) # BMI와 Age 간의 관계를 시각화\n",
    "plt.xlabel('BMI')\n",
    "plt.ylabel('Age')\n",
    "plt.title('BMI & Age scatter plot')\n",
    "\n",
    "plt.show()"
   ]
  }
 ],
 "metadata": {
  "kernelspec": {
   "display_name": "Python 3 (ipykernel)",
   "language": "python",
   "name": "python3"
  },
  "language_info": {
   "codemirror_mode": {
    "name": "ipython",
    "version": 3
   },
   "file_extension": ".py",
   "mimetype": "text/x-python",
   "name": "python",
   "nbconvert_exporter": "python",
   "pygments_lexer": "ipython3",
   "version": "3.12.7"
  }
 },
 "nbformat": 4,
 "nbformat_minor": 5
}
