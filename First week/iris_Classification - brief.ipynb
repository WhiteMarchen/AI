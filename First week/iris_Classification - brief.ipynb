{
 "cells": [
  {
   "cell_type": "code",
   "execution_count": 1,
   "id": "4f5ec716-a0da-4529-aaca-05f941aa621e",
   "metadata": {},
   "outputs": [
    {
     "name": "stdout",
     "output_type": "stream",
     "text": [
      "DT  예측값 : [1 0 2 1 1]\n",
      "DT  정확도 : 1.0000\n",
      "\n",
      "RF  예측값 : [1 0 2 1 1]\n",
      "RF  정확도 : 1.0000\n",
      "\n",
      "SVM  예측값 : [1 0 2 1 1]\n",
      "SVM  정확도 : 1.0000\n",
      "\n",
      "LR  예측값 : [1 0 2 1 1]\n",
      "LR  정확도 : 1.0000\n",
      "\n",
      "   SepalLength  SepalWidth  PetalLength  PetalWidth         Name\n",
      "0          5.1         3.5          1.4         0.2  Iris-setosa\n",
      "1          4.9         3.0          1.4         0.2  Iris-setosa\n",
      "2          4.7         3.2          1.3         0.2  Iris-setosa\n",
      "3          4.6         3.1          1.5         0.2  Iris-setosa\n",
      "4          5.0         3.6          1.4         0.2  Iris-setosa\n",
      "Index(['SepalLength', 'SepalWidth', 'PetalLength', 'PetalWidth', 'Name'], dtype='object')\n"
     ]
    }
   ],
   "source": [
    "import pandas as pd\n",
    "from sklearn.model_selection import train_test_split\n",
    "from sklearn.preprocessing import LabelEncoder\n",
    "from sklearn.tree import DecisionTreeClassifier\n",
    "from sklearn.ensemble import RandomForestClassifier\n",
    "from sklearn.svm import SVC\n",
    "from sklearn.linear_model import LogisticRegression\n",
    "from sklearn.metrics import accuracy_score\n",
    "\n",
    "file_path = \"/Users/marchen/Desktop/programming/AI/First week/iris.csv\"\n",
    "df = pd.read_csv(file_path)\n",
    "\n",
    "# 타겟 데이터 분리\n",
    "X = df.iloc[ :, :-1]                            # 특정 데이터\n",
    "Y = LabelEncoder().fit_transform(df[\"Name\"])    # 문자열을 숫자로 치환\n",
    "\n",
    "# 데이터 학습, 테스트, 분할\n",
    "X_train, X_test, Y_train, Y_test = train_test_split(X, Y, test_size=0.2, random_state=42)\n",
    "\n",
    "# 모델 선언\n",
    "models = {\n",
    "    \"DT\": DecisionTreeClassifier(),\n",
    "    \"RF\": RandomForestClassifier(),\n",
    "    \"SVM\": SVC(),\n",
    "    \"LR\": LogisticRegression(max_iter=200)\n",
    "}\n",
    "\n",
    "# 모델 학습, 평가\n",
    "for name, model in models.items():\n",
    "    model.fit(X_train, Y_train)\n",
    "    Y_pred = model.predict(X_test)\n",
    "    accuracy = accuracy_score(Y_test, Y_pred)\n",
    "    print(f\"{name}  예측값 : {Y_pred[:5]}\")\n",
    "    print(f\"{name}  정확도 : {accuracy:.4f}\\n\")\n",
    "\n",
    "print(df.head())\n",
    "print(df.columns)"
   ]
  },
  {
   "cell_type": "code",
   "execution_count": null,
   "id": "e9fb98b3-449f-4967-893d-e84f5aaed90b",
   "metadata": {},
   "outputs": [],
   "source": []
  }
 ],
 "metadata": {
  "kernelspec": {
   "display_name": "Python 3 (ipykernel)",
   "language": "python",
   "name": "python3"
  },
  "language_info": {
   "codemirror_mode": {
    "name": "ipython",
    "version": 3
   },
   "file_extension": ".py",
   "mimetype": "text/x-python",
   "name": "python",
   "nbconvert_exporter": "python",
   "pygments_lexer": "ipython3",
   "version": "3.12.7"
  }
 },
 "nbformat": 4,
 "nbformat_minor": 5
}
