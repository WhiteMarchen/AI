{
 "cells": [
  {
   "cell_type": "markdown",
   "id": "413b740f-9bec-461c-bd0b-c32eb69abd64",
   "metadata": {},
   "source": [
    "# 필기체 숫자 이미지 분류"
   ]
  },
  {
   "cell_type": "code",
   "execution_count": 1,
   "id": "d2fb2978-aa3c-4363-a6a1-b4b8d9ee70e5",
   "metadata": {},
   "outputs": [],
   "source": [
    "import numpy as np\n",
    "import matplotlib.pyplot as plt\n",
    "from sklearn import datasets\n",
    "from sklearn.model_selection import train_test_split\n",
    "from tensorflow.keras.models import Sequential\n",
    "from tensorflow.keras.layers import Dense, Dropout\n",
    "from tensorflow.keras.utils import to_categorical"
   ]
  },
  {
   "cell_type": "code",
   "execution_count": 2,
   "id": "8774dfe5-faac-45c7-b801-b95f3aa09c08",
   "metadata": {},
   "outputs": [
    {
     "data": {
      "image/png": "[encoded data removed]",
      "text/plain": [
       "<Figure size 300x300 with 1 Axes>"
      ]
     },
     "metadata": {},
     "output_type": "display_data"
    }
   ],
   "source": [
    "# MNIST 이미지 출력\n",
    "digits = datasets.load_digits()\n",
    "n_samples = len(digits.images)\n",
    "\n",
    "plt.figure(figsize=(3,3))\n",
    "plt.imshow(digits.images[0], cmap='gray_r')\n",
    "plt.title(f\"Label: {digits.target[0]}\")\n",
    "plt.axis('off')\n",
    "plt.show()"
   ]
  },
  {
   "cell_type": "markdown",
   "id": "7cc6345a-1eaa-49be-856b-4d4a6149d882",
   "metadata": {},
   "source": [
    "### 원-핫 인코딩"
   ]
  },
  {
   "cell_type": "code",
   "execution_count": 3,
   "id": "7930e290-309c-4dd4-ba54-80576d762296",
   "metadata": {},
   "outputs": [],
   "source": [
    "# 2차원 배열을 1차원 배열로 변환\n",
    "X = digits.images.reshape((n_samples, -1)).astype('float32') / 16.0"
   ]
  },
  {
   "cell_type": "code",
   "execution_count": 4,
   "id": "61335536-6843-4ca0-acaf-8948ada1b07b",
   "metadata": {},
   "outputs": [],
   "source": [
    "# 레이블 10개로 만듬\n",
    "y = to_categorical(digits.target, num_classes=10)"
   ]
  },
  {
   "cell_type": "code",
   "execution_count": 5,
   "id": "88b40621-76d2-4a08-9251-ba68ec7c8d66",
   "metadata": {},
   "outputs": [],
   "source": [
    "# train, test 분리\n",
    "X_train, X_test, y_train, y_test = train_test_split(X, y, test_size = 0.2, random_state = 42, stratify = digits.target)"
   ]
  },
  {
   "cell_type": "code",
   "execution_count": 6,
   "id": "1e41a17c-558e-462e-8678-071e33f886af",
   "metadata": {},
   "outputs": [
    {
     "name": "stderr",
     "output_type": "stream",
     "text": [
      "/Users/marchen/anaconda3/lib/python3.12/site-packages/keras/src/layers/core/dense.py:87: UserWarning: Do not pass an `input_shape`/`input_dim` argument to a layer. When using Sequential models, prefer using an `Input(shape)` object as the first layer in the model instead.\n",
      "  super().__init__(activity_regularizer=activity_regularizer, **kwargs)\n"
     ]
    },
    {
     "data": {
      "text/html": [
       "<pre style=\"white-space:pre;overflow-x:auto;line-height:normal;font-family:Menlo,'DejaVu Sans Mono',consolas,'Courier New',monospace\"><span style=\"font-weight: bold\">Model: \"sequential\"</span>\n",
       "</pre>\n"
      ],
      "text/plain": [
       "\u001b[1mModel: \"sequential\"\u001b[0m\n"
      ]
     },
     "metadata": {},
     "output_type": "display_data"
    },
    {
     "data": {
      "text/html": [
       "<pre style=\"white-space:pre;overflow-x:auto;line-height:normal;font-family:Menlo,'DejaVu Sans Mono',consolas,'Courier New',monospace\">┏━━━━━━━━━━━━━━━━━━━━━━━━━━━━━━━━━┳━━━━━━━━━━━━━━━━━━━━━━━━┳━━━━━━━━━━━━━━━┓\n",
       "┃<span style=\"font-weight: bold\"> Layer (type)                    </span>┃<span style=\"font-weight: bold\"> Output Shape           </span>┃<span style=\"font-weight: bold\">       Param # </span>┃\n",
       "┡━━━━━━━━━━━━━━━━━━━━━━━━━━━━━━━━━╇━━━━━━━━━━━━━━━━━━━━━━━━╇━━━━━━━━━━━━━━━┩\n",
       "│ dense (<span style=\"color: #0087ff; text-decoration-color: #0087ff\">Dense</span>)                   │ (<span style=\"color: #00d7ff; text-decoration-color: #00d7ff\">None</span>, <span style=\"color: #00af00; text-decoration-color: #00af00\">128</span>)            │         <span style=\"color: #00af00; text-decoration-color: #00af00\">8,320</span> │\n",
       "├─────────────────────────────────┼────────────────────────┼───────────────┤\n",
       "│ dropout (<span style=\"color: #0087ff; text-decoration-color: #0087ff\">Dropout</span>)               │ (<span style=\"color: #00d7ff; text-decoration-color: #00d7ff\">None</span>, <span style=\"color: #00af00; text-decoration-color: #00af00\">128</span>)            │             <span style=\"color: #00af00; text-decoration-color: #00af00\">0</span> │\n",
       "├─────────────────────────────────┼────────────────────────┼───────────────┤\n",
       "│ dense_1 (<span style=\"color: #0087ff; text-decoration-color: #0087ff\">Dense</span>)                 │ (<span style=\"color: #00d7ff; text-decoration-color: #00d7ff\">None</span>, <span style=\"color: #00af00; text-decoration-color: #00af00\">64</span>)             │         <span style=\"color: #00af00; text-decoration-color: #00af00\">8,256</span> │\n",
       "├─────────────────────────────────┼────────────────────────┼───────────────┤\n",
       "│ dropout_1 (<span style=\"color: #0087ff; text-decoration-color: #0087ff\">Dropout</span>)             │ (<span style=\"color: #00d7ff; text-decoration-color: #00d7ff\">None</span>, <span style=\"color: #00af00; text-decoration-color: #00af00\">64</span>)             │             <span style=\"color: #00af00; text-decoration-color: #00af00\">0</span> │\n",
       "├─────────────────────────────────┼────────────────────────┼───────────────┤\n",
       "│ dense_2 (<span style=\"color: #0087ff; text-decoration-color: #0087ff\">Dense</span>)                 │ (<span style=\"color: #00d7ff; text-decoration-color: #00d7ff\">None</span>, <span style=\"color: #00af00; text-decoration-color: #00af00\">10</span>)             │           <span style=\"color: #00af00; text-decoration-color: #00af00\">650</span> │\n",
       "└─────────────────────────────────┴────────────────────────┴───────────────┘\n",
       "</pre>\n"
      ],
      "text/plain": [
       "┏━━━━━━━━━━━━━━━━━━━━━━━━━━━━━━━━━┳━━━━━━━━━━━━━━━━━━━━━━━━┳━━━━━━━━━━━━━━━┓\n",
       "┃\u001b[1m \u001b[0m\u001b[1mLayer (type)                   \u001b[0m\u001b[1m \u001b[0m┃\u001b[1m \u001b[0m\u001b[1mOutput Shape          \u001b[0m\u001b[1m \u001b[0m┃\u001b[1m \u001b[0m\u001b[1m      Param #\u001b[0m\u001b[1m \u001b[0m┃\n",
       "┡━━━━━━━━━━━━━━━━━━━━━━━━━━━━━━━━━╇━━━━━━━━━━━━━━━━━━━━━━━━╇━━━━━━━━━━━━━━━┩\n",
       "│ dense (\u001b[38;5;33mDense\u001b[0m)                   │ (\u001b[38;5;45mNone\u001b[0m, \u001b[38;5;34m128\u001b[0m)            │         \u001b[38;5;34m8,320\u001b[0m │\n",
       "├─────────────────────────────────┼────────────────────────┼───────────────┤\n",
       "│ dropout (\u001b[38;5;33mDropout\u001b[0m)               │ (\u001b[38;5;45mNone\u001b[0m, \u001b[38;5;34m128\u001b[0m)            │             \u001b[38;5;34m0\u001b[0m │\n",
       "├─────────────────────────────────┼────────────────────────┼───────────────┤\n",
       "│ dense_1 (\u001b[38;5;33mDense\u001b[0m)                 │ (\u001b[38;5;45mNone\u001b[0m, \u001b[38;5;34m64\u001b[0m)             │         \u001b[38;5;34m8,256\u001b[0m │\n",
       "├─────────────────────────────────┼────────────────────────┼───────────────┤\n",
       "│ dropout_1 (\u001b[38;5;33mDropout\u001b[0m)             │ (\u001b[38;5;45mNone\u001b[0m, \u001b[38;5;34m64\u001b[0m)             │             \u001b[38;5;34m0\u001b[0m │\n",
       "├─────────────────────────────────┼────────────────────────┼───────────────┤\n",
       "│ dense_2 (\u001b[38;5;33mDense\u001b[0m)                 │ (\u001b[38;5;45mNone\u001b[0m, \u001b[38;5;34m10\u001b[0m)             │           \u001b[38;5;34m650\u001b[0m │\n",
       "└─────────────────────────────────┴────────────────────────┴───────────────┘\n"
      ]
     },
     "metadata": {},
     "output_type": "display_data"
    },
    {
     "data": {
      "text/html": [
       "<pre style=\"white-space:pre;overflow-x:auto;line-height:normal;font-family:Menlo,'DejaVu Sans Mono',consolas,'Courier New',monospace\"><span style=\"font-weight: bold\"> Total params: </span><span style=\"color: #00af00; text-decoration-color: #00af00\">17,226</span> (67.29 KB)\n",
       "</pre>\n"
      ],
      "text/plain": [
       "\u001b[1m Total params: \u001b[0m\u001b[38;5;34m17,226\u001b[0m (67.29 KB)\n"
      ]
     },
     "metadata": {},
     "output_type": "display_data"
    },
    {
     "data": {
      "text/html": [
       "<pre style=\"white-space:pre;overflow-x:auto;line-height:normal;font-family:Menlo,'DejaVu Sans Mono',consolas,'Courier New',monospace\"><span style=\"font-weight: bold\"> Trainable params: </span><span style=\"color: #00af00; text-decoration-color: #00af00\">17,226</span> (67.29 KB)\n",
       "</pre>\n"
      ],
      "text/plain": [
       "\u001b[1m Trainable params: \u001b[0m\u001b[38;5;34m17,226\u001b[0m (67.29 KB)\n"
      ]
     },
     "metadata": {},
     "output_type": "display_data"
    },
    {
     "data": {
      "text/html": [
       "<pre style=\"white-space:pre;overflow-x:auto;line-height:normal;font-family:Menlo,'DejaVu Sans Mono',consolas,'Courier New',monospace\"><span style=\"font-weight: bold\"> Non-trainable params: </span><span style=\"color: #00af00; text-decoration-color: #00af00\">0</span> (0.00 B)\n",
       "</pre>\n"
      ],
      "text/plain": [
       "\u001b[1m Non-trainable params: \u001b[0m\u001b[38;5;34m0\u001b[0m (0.00 B)\n"
      ]
     },
     "metadata": {},
     "output_type": "display_data"
    }
   ],
   "source": [
    "# DNN 모델\n",
    "model = Sequential([\n",
    "    Dense(128, activation='relu', input_shape=(64,)),\n",
    "    Dropout(0.3),\n",
    "    Dense(64, activation='relu'),\n",
    "    Dropout(0.2),\n",
    "    Dense(10, activation='softmax')\n",
    "])\n",
    "\n",
    "model.compile(\n",
    "    optimizer='adam',\n",
    "    loss='categorical_crossentropy',\n",
    "    metrics=['accuracy']\n",
    ")\n",
    "\n",
    "model.summary()"
   ]
  },
  {
   "cell_type": "code",
   "execution_count": 7,
   "id": "5c268bfb-8a90-4557-b21d-b416409f0dc7",
   "metadata": {},
   "outputs": [
    {
     "name": "stdout",
     "output_type": "stream",
     "text": [
      "Epoch 1/30\n",
      "41/41 - 1s - 19ms/step - accuracy: 0.2800 - loss: 2.1245 - val_accuracy: 0.7222 - val_loss: 1.7140\n",
      "Epoch 2/30\n",
      "41/41 - 0s - 2ms/step - accuracy: 0.6249 - loss: 1.4326 - val_accuracy: 0.8681 - val_loss: 0.9209\n",
      "Epoch 3/30\n",
      "41/41 - 0s - 2ms/step - accuracy: 0.7680 - loss: 0.8815 - val_accuracy: 0.9097 - val_loss: 0.5302\n",
      "Epoch 4/30\n",
      "41/41 - 0s - 2ms/step - accuracy: 0.8190 - loss: 0.6434 - val_accuracy: 0.9097 - val_loss: 0.3835\n",
      "Epoch 5/30\n",
      "41/41 - 0s - 2ms/step - accuracy: 0.8647 - loss: 0.4851 - val_accuracy: 0.9236 - val_loss: 0.2974\n",
      "Epoch 6/30\n",
      "41/41 - 0s - 2ms/step - accuracy: 0.8964 - loss: 0.3763 - val_accuracy: 0.9514 - val_loss: 0.2450\n",
      "Epoch 7/30\n",
      "41/41 - 0s - 2ms/step - accuracy: 0.9049 - loss: 0.3275 - val_accuracy: 0.9375 - val_loss: 0.2273\n",
      "Epoch 8/30\n",
      "41/41 - 0s - 2ms/step - accuracy: 0.9118 - loss: 0.3043 - val_accuracy: 0.9583 - val_loss: 0.1863\n",
      "Epoch 9/30\n",
      "41/41 - 0s - 2ms/step - accuracy: 0.9296 - loss: 0.2588 - val_accuracy: 0.9583 - val_loss: 0.1721\n",
      "Epoch 10/30\n",
      "41/41 - 0s - 2ms/step - accuracy: 0.9412 - loss: 0.2185 - val_accuracy: 0.9514 - val_loss: 0.1482\n",
      "Epoch 11/30\n",
      "41/41 - 0s - 2ms/step - accuracy: 0.9381 - loss: 0.1988 - val_accuracy: 0.9583 - val_loss: 0.1475\n",
      "Epoch 12/30\n",
      "41/41 - 0s - 2ms/step - accuracy: 0.9389 - loss: 0.1895 - val_accuracy: 0.9583 - val_loss: 0.1298\n",
      "Epoch 13/30\n",
      "41/41 - 0s - 2ms/step - accuracy: 0.9335 - loss: 0.1903 - val_accuracy: 0.9583 - val_loss: 0.1172\n",
      "Epoch 14/30\n",
      "41/41 - 0s - 2ms/step - accuracy: 0.9482 - loss: 0.1737 - val_accuracy: 0.9653 - val_loss: 0.1249\n",
      "Epoch 15/30\n",
      "41/41 - 0s - 2ms/step - accuracy: 0.9582 - loss: 0.1582 - val_accuracy: 0.9653 - val_loss: 0.1204\n",
      "Epoch 16/30\n",
      "41/41 - 0s - 2ms/step - accuracy: 0.9606 - loss: 0.1417 - val_accuracy: 0.9583 - val_loss: 0.1266\n",
      "Epoch 17/30\n",
      "41/41 - 0s - 2ms/step - accuracy: 0.9551 - loss: 0.1396 - val_accuracy: 0.9583 - val_loss: 0.1317\n",
      "Epoch 18/30\n",
      "41/41 - 0s - 2ms/step - accuracy: 0.9660 - loss: 0.1217 - val_accuracy: 0.9583 - val_loss: 0.1194\n",
      "Epoch 19/30\n",
      "41/41 - 0s - 2ms/step - accuracy: 0.9621 - loss: 0.1176 - val_accuracy: 0.9583 - val_loss: 0.1102\n",
      "Epoch 20/30\n",
      "41/41 - 0s - 2ms/step - accuracy: 0.9667 - loss: 0.1185 - val_accuracy: 0.9653 - val_loss: 0.0975\n",
      "Epoch 21/30\n",
      "41/41 - 0s - 2ms/step - accuracy: 0.9737 - loss: 0.1042 - val_accuracy: 0.9583 - val_loss: 0.1169\n",
      "Epoch 22/30\n",
      "41/41 - 0s - 2ms/step - accuracy: 0.9706 - loss: 0.0920 - val_accuracy: 0.9653 - val_loss: 0.0971\n",
      "Epoch 23/30\n",
      "41/41 - 0s - 2ms/step - accuracy: 0.9760 - loss: 0.0945 - val_accuracy: 0.9653 - val_loss: 0.0969\n",
      "Epoch 24/30\n",
      "41/41 - 0s - 2ms/step - accuracy: 0.9698 - loss: 0.1040 - val_accuracy: 0.9583 - val_loss: 0.1044\n",
      "Epoch 25/30\n",
      "41/41 - 0s - 2ms/step - accuracy: 0.9652 - loss: 0.1089 - val_accuracy: 0.9653 - val_loss: 0.1030\n",
      "Epoch 26/30\n",
      "41/41 - 0s - 3ms/step - accuracy: 0.9753 - loss: 0.0837 - val_accuracy: 0.9583 - val_loss: 0.0986\n",
      "Epoch 27/30\n",
      "41/41 - 0s - 2ms/step - accuracy: 0.9745 - loss: 0.0888 - val_accuracy: 0.9583 - val_loss: 0.1072\n",
      "Epoch 28/30\n",
      "41/41 - 0s - 2ms/step - accuracy: 0.9783 - loss: 0.0784 - val_accuracy: 0.9583 - val_loss: 0.0927\n",
      "Epoch 29/30\n",
      "41/41 - 0s - 2ms/step - accuracy: 0.9760 - loss: 0.0722 - val_accuracy: 0.9653 - val_loss: 0.0939\n",
      "Epoch 30/30\n",
      "41/41 - 0s - 2ms/step - accuracy: 0.9791 - loss: 0.0721 - val_accuracy: 0.9583 - val_loss: 0.0911\n"
     ]
    }
   ],
   "source": [
    "# 학습\n",
    "history = model.fit(\n",
    "    X_train, y_train,\n",
    "    validation_split=0.1,\n",
    "    epochs=30,\n",
    "    batch_size=32,\n",
    "    verbose=2\n",
    ")"
   ]
  },
  {
   "cell_type": "code",
   "execution_count": 8,
   "id": "355effda-eb97-4955-927c-4b048ba5fbce",
   "metadata": {},
   "outputs": [
    {
     "data": {
      "image/png": "[encoded data removed]",
      "text/plain": [
       "<Figure size 1200x400 with 2 Axes>"
      ]
     },
     "metadata": {},
     "output_type": "display_data"
    }
   ],
   "source": [
    "plt.figure(figsize=(12,4))\n",
    "\n",
    "plt.subplot(1,2,1)\n",
    "plt.plot(history.history['loss'], label='train loss')\n",
    "plt.plot(history.history['val_loss'], label='val loss')\n",
    "plt.xlabel('Epoch'); plt.ylabel('Loss')\n",
    "plt.legend()\n",
    "\n",
    "plt.subplot(1,2,2)\n",
    "plt.plot(history.history['accuracy'], label='train acc')\n",
    "plt.plot(history.history['val_accuracy'], label='val acc')\n",
    "plt.xlabel('Epoch'); plt.ylabel('Accuracy')\n",
    "plt.legend()\n",
    "\n",
    "plt.show()"
   ]
  },
  {
   "cell_type": "code",
   "execution_count": 9,
   "id": "b47ebb1e-1c71-4ab8-9cf6-ea24f694fdd8",
   "metadata": {},
   "outputs": [
    {
     "name": "stdout",
     "output_type": "stream",
     "text": [
      "Test accuracy: 98.61%\n"
     ]
    }
   ],
   "source": [
    "# 정확도 분석\n",
    "loss, acc = model.evaluate(X_test, y_test, verbose=0)\n",
    "print(f\"Test accuracy: {acc*100:.2f}%\")"
   ]
  },
  {
   "cell_type": "code",
   "execution_count": 10,
   "id": "6e7869f3-4c98-4f2c-9a22-74793050cc05",
   "metadata": {},
   "outputs": [
    {
     "name": "stdout",
     "output_type": "stream",
     "text": [
      "\u001b[1m1/1\u001b[0m \u001b[32m━━━━━━━━━━━━━━━━━━━━\u001b[0m\u001b[37m\u001b[0m \u001b[1m0s\u001b[0m 38ms/step\n",
      "true label: 0 predicted: 0\n"
     ]
    },
    {
     "data": {
      "image/png": "[encoded data removed]",
      "text/plain": [
       "<Figure size 250x250 with 1 Axes>"
      ]
     },
     "metadata": {},
     "output_type": "display_data"
    }
   ],
   "source": [
    "# 샘플 예측\n",
    "idx = 10\n",
    "plt.figure(figsize=(2.5,2.5))\n",
    "plt.imshow(digits.images[idx], cmap='gray_r')\n",
    "plt.axis('off')\n",
    "pred = model.predict(X[idx:idx+1])\n",
    "print(\"true label:\", digits.target[idx], \"predicted:\", np.argmax(pred))"
   ]
  },
  {
   "cell_type": "code",
   "execution_count": null,
   "id": "86934706-d726-471d-8c87-4416bed0dae7",
   "metadata": {},
   "outputs": [],
   "source": []
  }
 ],
 "metadata": {
  "kernelspec": {
   "display_name": "Python 3 (ipykernel)",
   "language": "python",
   "name": "python3"
  },
  "language_info": {
   "codemirror_mode": {
    "name": "ipython",
    "version": 3
   },
   "file_extension": ".py",
   "mimetype": "text/x-python",
   "name": "python",
   "nbconvert_exporter": "python",
   "pygments_lexer": "ipython3",
   "version": "3.12.2"
  }
 },
 "nbformat": 4,
 "nbformat_minor": 5
}
