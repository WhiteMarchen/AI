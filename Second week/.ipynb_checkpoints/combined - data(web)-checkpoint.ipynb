{
 "cells": [
  {
   "cell_type": "code",
   "execution_count": 7,
   "id": "869c44b9-4147-49f8-a04c-9e016b434f87",
   "metadata": {},
   "outputs": [
    {
     "name": "stdout",
     "output_type": "stream",
     "text": [
      "   Num.  subject_ID Sex(M/F)  Age(year)  Height(cm)  Weight(kg)  \\\n",
      "0     1           2   Female         45         152          63   \n",
      "1     1           2   Female         45         152          63   \n",
      "2     1           2   Female         45         152          63   \n",
      "3     2           3   Female         50         157          50   \n",
      "4     2           3   Female         50         157          50   \n",
      "\n",
      "   Systolic Blood Pressure(mmHg)  Diastolic Blood Pressure(mmHg)  \\\n",
      "0                            161                              89   \n",
      "1                            161                              89   \n",
      "2                            161                              89   \n",
      "3                            160                              93   \n",
      "4                            160                              93   \n",
      "\n",
      "   Heart Rate(b/m)  BMI(kg/m^2)  ...  2091  2092  2093  2094  2095  2096  \\\n",
      "0               97    27.268006  ...  1766  1766  1766  1833  1833  1827   \n",
      "1               97    27.268006  ...  1985  1985  2026  2026  2026  1977   \n",
      "2               97    27.268006  ...  1942  1900  1900  1938  1938  1938   \n",
      "3               76    20.284799  ...  2073  2072  2072  2072  2051  2051   \n",
      "4               76    20.284799  ...  2021  2010  2010  2010  2001  2001   \n",
      "\n",
      "   2097  2098  2099  2100  \n",
      "0  1827  1827  1754  1754  \n",
      "1  1977  1997  1997  1997  \n",
      "2  1924  1924  1929  1929  \n",
      "3  2036  2036  2036  2045  \n",
      "4  2003  2003  2003  1989  \n",
      "\n",
      "[5 rows x 2114 columns] \n",
      "\n",
      "<class 'pandas.core.frame.DataFrame'>\n",
      "RangeIndex: 657 entries, 0 to 656\n",
      "Columns: 2114 entries, Num. to 2100\n",
      "dtypes: float64(1), int64(2108), object(5)\n",
      "memory usage: 10.6+ MB\n",
      "None\n",
      "총 데이터 개수: 657\n"
     ]
    }
   ],
   "source": [
    "import pandas as pd\n",
    "\n",
    "# GitHub raw URL\n",
    "url = \"https://raw.githubusercontent.com/MyungKyuYi/AI-class/main/combined_dataset-1.xlsx\"\n",
    "#https://github.com/MyungKyuYi/AI-class/blob/main/combined_dataset-1.xlsx\n",
    "\n",
    "# CSV 파일 읽기\n",
    "df = pd.read_excel(url)\n",
    "\n",
    "# 데이터프레임 확인\n",
    "print(df.head(),\"\\n\")  # 상위 5개 데이터 출력\n",
    "print(df.info())  # 데이터 구조 확인\n",
    "print(f\"총 데이터 개수: {df.shape[0]}\")  # 총 데이터 개수 출력"
   ]
  },
  {
   "cell_type": "markdown",
   "id": "2ceadc22-6dae-4d0f-8fbb-b860a1234679",
   "metadata": {},
   "source": [
    "## 성별을 타겟으로 예측"
   ]
  },
  {
   "cell_type": "markdown",
   "id": "5587f4b7-dfae-4f55-83e3-1375a84439a6",
   "metadata": {},
   "source": [
    "#### test와 train을 분류"
   ]
  },
  {
   "cell_type": "code",
   "execution_count": 31,
   "id": "1152eed4-acd5-451e-bd21-c715484cdb3f",
   "metadata": {},
   "outputs": [
    {
     "name": "stdout",
     "output_type": "stream",
     "text": [
      "Sex(M/F)\n"
     ]
    }
   ],
   "source": [
    "from sklearn.model_selection import train_test_split\n",
    "from sklearn.preprocessing import LabelEncoder\n",
    "\n",
    "target_column = \"Sex(M/F)\" # 예측할 특정 칼럼\n",
    "X = df.drop(columns = [target_column]) # 그 외의 다른 칼럼\n",
    "Y = df[target_column] # 예측할 데이터\n",
    "\n",
    "label_encoders = {}\n",
    "for col in X.select_dtypes(include = [\"object\"]).columns: # 문자열 데이터만 변환\n",
    "    label = LabelEncoder()\n",
    "    X[col] = label.fit_transform(X[col])\n",
    "\n",
    "Y = label.fit_transform(Y) # 성별도 라벨 인코딩\n",
    "\n",
    "X_train, X_test, Y_train, Y_test = train_test_split(X, Y, test_size = 0.3, random_state = 44)\n",
    "\n",
    "print(target_column)"
   ]
  },
  {
   "cell_type": "code",
   "execution_count": 34,
   "id": "31f6042e-0772-41c9-a191-8803c8a36670",
   "metadata": {},
   "outputs": [
    {
     "name": "stdout",
     "output_type": "stream",
     "text": [
      "DT 예측값 : [1 1 1 1 1]\n",
      "DT 정확도 : 0.8384\n"
     ]
    }
   ],
   "source": [
    "# DT 모델\n",
    "from sklearn.tree import DecisionTreeClassifier\n",
    "from sklearn.metrics import accuracy_score\n",
    "\n",
    "# DT 모델 학습\n",
    "dt = DecisionTreeClassifier()\n",
    "dt.fit(X_train, Y_train)\n",
    "\n",
    "# 예측 및 평가\n",
    "Y_pred = dt.predict(X_test)\n",
    "dt_accuracy = accuracy_score(Y_test, Y_pred)\n",
    "\n",
    "print(f\"DT 예측값 : {Y_pred[:5]}\")\n",
    "print(f\"DT 정확도 : {dt_accuracy:.4f}\")"
   ]
  },
  {
   "cell_type": "code",
   "execution_count": 41,
   "id": "ba4607f1-697f-414c-a6c7-8eb88938d874",
   "metadata": {},
   "outputs": [
    {
     "name": "stdout",
     "output_type": "stream",
     "text": [
      "SVM 예측값 : [1 1 0 1 0]\n",
      "SVM 정확도 : 0.5202\n"
     ]
    }
   ],
   "source": [
    "# SVM 모델\n",
    "from sklearn.svm import SVC\n",
    "from sklearn.metrics import accuracy_score\n",
    "\n",
    "# SVM 모델 학습\n",
    "svm_model = SVC()\n",
    "svm_model.fit(X_train, Y_train)\n",
    "\n",
    "# 예측 및 평가\n",
    "Y_pred = svm_model.predict(X_test)\n",
    "svm_accuracy = accuracy_score(Y_test, Y_pred)\n",
    "\n",
    "print(f\"SVM 예측값 : {Y_pred[:5]}\")\n",
    "print(f\"SVM 정확도 : {svm_accuracy:.4f}\")"
   ]
  },
  {
   "cell_type": "code",
   "execution_count": 42,
   "id": "d8dad92f-01a9-4ad6-9100-9cfbd299b386",
   "metadata": {},
   "outputs": [
    {
     "name": "stdout",
     "output_type": "stream",
     "text": [
      "RF  예측값 : [1 1 0 1 1]\n",
      "RF  정확도 :  0.6414\n",
      "\n"
     ]
    }
   ],
   "source": [
    "# RF 모델\n",
    "from sklearn.ensemble import RandomForestClassifier\n",
    "\n",
    "# RF 모델 학습\n",
    "rf_model = RandomForestClassifier()\n",
    "rf_model.fit(X_train, Y_train)\n",
    "\n",
    "# 예측 및 평가\n",
    "Y_pred = rf_model.predict(X_test)\n",
    "RF_accuracy = accuracy_score(Y_test, Y_pred)\n",
    "print(f\"RF  예측값 : {Y_pred[:5]}\")\n",
    "print(f\"RF  정확도 : {RF_accuracy : .4f}\\n\")"
   ]
  },
  {
   "cell_type": "code",
   "execution_count": 43,
   "id": "dfeba2ae-854a-4168-8df2-33452da49e09",
   "metadata": {},
   "outputs": [
    {
     "name": "stdout",
     "output_type": "stream",
     "text": [
      "LF  예측값 : [1 1 1 1 0]\n",
      "LF  정확도 :  0.4293\n",
      "\n"
     ]
    },
    {
     "name": "stderr",
     "output_type": "stream",
     "text": [
      "/Users/marchen/anaconda3/lib/python3.12/site-packages/sklearn/linear_model/_logistic.py:465: ConvergenceWarning: lbfgs failed to converge (status=1):\n",
      "STOP: TOTAL NO. of ITERATIONS REACHED LIMIT.\n",
      "\n",
      "Increase the number of iterations (max_iter) or scale the data as shown in:\n",
      "    https://scikit-learn.org/stable/modules/preprocessing.html\n",
      "Please also refer to the documentation for alternative solver options:\n",
      "    https://scikit-learn.org/stable/modules/linear_model.html#logistic-regression\n",
      "  n_iter_i = _check_optimize_result(\n"
     ]
    }
   ],
   "source": [
    "# LF\n",
    "from sklearn.linear_model import LogisticRegression\n",
    "\n",
    "# LF 모델 학습\n",
    "lr_model = LogisticRegression(max_iter = 200)\n",
    "lr_model.fit(X_train, Y_train)\n",
    "\n",
    "# 예측 및 평가\n",
    "Y_pred = lr_model.predict(X_test)\n",
    "LF_accuracy = accuracy_score(Y_test, Y_pred)\n",
    "print(f\"LF  예측값 : {Y_pred[:5]}\")\n",
    "print(f\"LF  정확도 : {LF_accuracy : .4f}\\n\")"
   ]
  },
  {
   "cell_type": "code",
   "execution_count": 44,
   "id": "9a720786-1e9a-41e7-8c5c-99ce5172d9b9",
   "metadata": {},
   "outputs": [
    {
     "name": "stdout",
     "output_type": "stream",
     "text": [
      "[1 0 0 0 1 0 0 0 1 1 0 1 1 1 1 0 1 0 1 0 1 0 0 0 1 0 1 0 0 0 0 1 1 0 0 0 1\n",
      " 0 1 1 0 1 0 1 1 0 1 0 0 0 1 1 1 0 1 0 1 0 1 1 1 1 1 0 1 0 1 0 0 1 0 1 1 1\n",
      " 0 0 1 0 0 0 1 0 0 0 0 1 0 1 1 0 0 0 0 0 0 0 1 0 0 0 1 0 0 1 1 0 1 1 1 0 0\n",
      " 0 1 1 0 0 0 0 1 1 0 1 1 1 1 0 0 0 1 1 0 1 1 0 0 0 1 1 0 1 1 1 0 1 1 0 1 1\n",
      " 0 0 0 0 0 1 0 1 1 0 1 0 0 0 1 1 0 0 1 0 1 0 0 1 1 1 1 0 1 0 0 0 0 1 0 1 0\n",
      " 0 1 1 0 0 0 0 0 0 1 1 1 0 0 0 0 1 1 0 0 0 1 0 0 1 1 1 1 0 1 1 0 1 1 0 0 0\n",
      " 1 0 0 0 0 0 0 1 0 0 1 0 1 0 0 0 1 1 0 0 0 0 0 0 0 0 1 0 0 0 1 1 1 0 1 1 0\n",
      " 1 0 1 0 0 1 0 1 1 0 0 0 0 1 0 0 1 0 0 1 1 0 0 0 1 0 0 0 0 1 0 0 1 1 0 0 1\n",
      " 0 1 0 1 1 1 0 1 0 0 1 0 1 0 1 0 1 1 0 0 0 1 0 0 1 0 0 1 1 0 1 1 1 0 0 1 1\n",
      " 1 0 0 0 1 1 0 0 0 0 1 0 1 1 1 1 1 0 1 1 0 1 0 0 0 0 0 0 1 1 1 0 0 0 1 1 0\n",
      " 0 0 1 1 1 0 1 1 0 0 0 1 1 0 1 0 0 1 1 0 1 0 0 1 0 1 1 0 1 0 0 0 0 1 0 1 1\n",
      " 0 1 1 0 1 1 1 0 1 1 0 1 1 0 0 0 0 0 1 0 1 0 0 0 1 0 0 1 1 0 1 1 1 1 1 0 1\n",
      " 1 0 0 1 1 1 0 1 0 1 0 1 1 0 0] \n",
      "\n"
     ]
    }
   ],
   "source": [
    "print(Y_train,\"\\n\")"
   ]
  },
  {
   "cell_type": "code",
   "execution_count": 45,
   "id": "1652dbb9-c379-45c3-9634-316e1a2c3e92",
   "metadata": {},
   "outputs": [
    {
     "name": "stdout",
     "output_type": "stream",
     "text": [
      "     Num.  subject_ID  Age(year)  Height(cm)  Weight(kg)  \\\n",
      "495   166         216         46         187          83   \n",
      "220    74         107         62         170          60   \n",
      "244    82         116         64         165          55   \n",
      "493   165         215         74         155          45   \n",
      "350   117         160         72         164          55   \n",
      "..    ...         ...        ...         ...         ...   \n",
      "528   177         228         52         164          90   \n",
      "242    81         115         54         150          82   \n",
      "266    89         126         40         154          43   \n",
      "601   201         256         53         158          59   \n",
      "422   141         188         61         173          75   \n",
      "\n",
      "     Systolic Blood Pressure(mmHg)  Diastolic Blood Pressure(mmHg)  \\\n",
      "495                            149                             101   \n",
      "220                            116                              66   \n",
      "244                             80                              48   \n",
      "493                            139                              75   \n",
      "350                            136                              64   \n",
      "..                             ...                             ...   \n",
      "528                            169                              90   \n",
      "242                            108                              66   \n",
      "266                             82                              53   \n",
      "601                            102                              57   \n",
      "422                            131                              71   \n",
      "\n",
      "     Heart Rate(b/m)  BMI(kg/m^2)  Hypertension  ...  2091  2092  2093  2094  \\\n",
      "495               63    23.735308             2  ...  1879  1879  1879  1908   \n",
      "220               70    20.761246             0  ...  1945  1945  1967  1967   \n",
      "244               53    20.202020             0  ...  2101  2101  2109  2109   \n",
      "493               81    18.730489             1  ...  1991  1953  1953  1985   \n",
      "350               82    20.449137             1  ...  2030  2030  2026  2026   \n",
      "..               ...          ...           ...  ...   ...   ...   ...   ...   \n",
      "528               91    33.462225             3  ...  1899  1897  1897  1883   \n",
      "242               62    36.444444             0  ...  1903  1903  1917  1917   \n",
      "266               83    18.131219             0  ...  2185  2185  2121  2121   \n",
      "601               80    23.634033             0  ...  1986  1986  1986  1993   \n",
      "422               87    25.059307             1  ...  2270  2270  2270  2240   \n",
      "\n",
      "     2095  2096  2097  2098  2099  2100  \n",
      "495  1908  1886  1886  1886  1891  1891  \n",
      "220  1967  1962  1962  1952  1952  1952  \n",
      "244  2105  2105  2105  2152  2152  2159  \n",
      "493  1985  1985  1940  1940  1968  1968  \n",
      "350  2026  2045  2045  2038  2038  2038  \n",
      "..    ...   ...   ...   ...   ...   ...  \n",
      "528  1883  1883  1882  1882  1921  1921  \n",
      "242  1917  1902  1902  1894  1894  1894  \n",
      "266  2121  2143  2143  2173  2173  2173  \n",
      "601  1993  1993  1996  1996  2002  2002  \n",
      "422  2240  2270  2270  2270  2266  2266  \n",
      "\n",
      "[198 rows x 2113 columns]\n"
     ]
    }
   ],
   "source": [
    "print(X_test)"
   ]
  },
  {
   "cell_type": "code",
   "execution_count": 46,
   "id": "2123e75f-d34b-4d5a-88b5-b34a02398415",
   "metadata": {},
   "outputs": [
    {
     "name": "stdout",
     "output_type": "stream",
     "text": [
      "[1 1 1 0 1 1 1 1 0 1 1 0 1 1 0 1 0 0 0 1 1 0 0 1 1 1 1 0 0 1 1 0 1 0 0 1 1\n",
      " 1 1 0 0 0 0 1 1 1 0 1 0 1 1 0 1 1 1 0 1 1 1 0 1 0 1 1 0 0 1 0 1 0 1 1 1 0\n",
      " 1 0 0 1 1 1 1 1 0 0 0 1 1 0 0 1 0 0 0 0 1 1 1 1 1 1 1 1 1 0 1 0 0 0 1 0 0\n",
      " 0 0 1 1 0 1 0 0 0 1 0 1 0 0 0 0 1 0 1 1 0 1 0 1 1 0 1 0 0 0 0 1 1 0 0 1 0\n",
      " 1 1 0 0 1 0 1 1 1 0 0 1 0 0 0 0 1 1 1 1 0 1 0 0 0 1 1 0 1 0 1 0 1 0 0 1 0\n",
      " 0 1 0 0 1 1 0 0 0 0 0 0 1]\n"
     ]
    }
   ],
   "source": [
    "print(Y_test)"
   ]
  },
  {
   "cell_type": "markdown",
   "id": "b357b1dc-5896-4592-9e32-45d2e7ad1e4f",
   "metadata": {},
   "source": [
    "Y_train과 Y_test가 0과 1로 나오는 이유는 모델링하기 전 코드에서 Y = label.fit_transform(Y)를 넣어 인코딩 했기에 여자는 0, 남자는 1로 전환 되었다."
   ]
  }
 ],
 "metadata": {
  "kernelspec": {
   "display_name": "Python 3 (ipykernel)",
   "language": "python",
   "name": "python3"
  },
  "language_info": {
   "codemirror_mode": {
    "name": "ipython",
    "version": 3
   },
   "file_extension": ".py",
   "mimetype": "text/x-python",
   "name": "python",
   "nbconvert_exporter": "python",
   "pygments_lexer": "ipython3",
   "version": "3.12.7"
  }
 },
 "nbformat": 4,
 "nbformat_minor": 5
}
